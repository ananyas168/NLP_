{
  "nbformat": 4,
  "nbformat_minor": 0,
  "metadata": {
    "colab": {
      "name": "unsupervised_adjective_prediction.ipynb",
      "provenance": [],
      "collapsed_sections": [
        "bGtFiwtmhoQx",
        "fZZS65gpDlI9"
      ],
      "toc_visible": true,
      "machine_shape": "hm",
      "mount_file_id": "134CU1jrcF8Dqg3GBGZRdfiFA9g_4FN3G",
      "authorship_tag": "ABX9TyOo93+3G+eKVrraSsPsx4km",
      "include_colab_link": true
    },
    "kernelspec": {
      "name": "python3",
      "display_name": "Python 3"
    },
    "language_info": {
      "name": "python"
    }
  },
  "cells": [
    {
      "cell_type": "markdown",
      "metadata": {
        "id": "view-in-github",
        "colab_type": "text"
      },
      "source": [
        "<a href=\"https://colab.research.google.com/github/ananyas168/NLP_/blob/main/unsupervised_adjective_prediction.ipynb\" target=\"_parent\"><img src=\"https://colab.research.google.com/assets/colab-badge.svg\" alt=\"Open In Colab\"/></a>"
      ]
    },
    {
      "cell_type": "code",
      "metadata": {
        "colab": {
          "base_uri": "https://localhost:8080/",
          "height": 1000
        },
        "id": "OLsJe2X3w_qU",
        "outputId": "5a0cb605-e693-4097-eea4-54c71861d613"
      },
      "source": [
        "import pandas as pd\n",
        "df = pd.read_excel('/content/assignment3_data.xlsx',header=None)\n",
        "df =df.drop(0)\n",
        "df"
      ],
      "execution_count": null,
      "outputs": [
        {
          "output_type": "execute_result",
          "data": {
            "text/html": [
              "<div>\n",
              "<style scoped>\n",
              "    .dataframe tbody tr th:only-of-type {\n",
              "        vertical-align: middle;\n",
              "    }\n",
              "\n",
              "    .dataframe tbody tr th {\n",
              "        vertical-align: top;\n",
              "    }\n",
              "\n",
              "    .dataframe thead th {\n",
              "        text-align: right;\n",
              "    }\n",
              "</style>\n",
              "<table border=\"1\" class=\"dataframe\">\n",
              "  <thead>\n",
              "    <tr style=\"text-align: right;\">\n",
              "      <th></th>\n",
              "      <th>0</th>\n",
              "    </tr>\n",
              "  </thead>\n",
              "  <tbody>\n",
              "    <tr>\n",
              "      <th>1</th>\n",
              "      <td>Intelligence, integrity, decisiveness</td>\n",
              "    </tr>\n",
              "    <tr>\n",
              "      <th>2</th>\n",
              "      <td>Honesty, passion, determination, teamwork</td>\n",
              "    </tr>\n",
              "    <tr>\n",
              "      <th>3</th>\n",
              "      <td>U have to be well qualified</td>\n",
              "    </tr>\n",
              "    <tr>\n",
              "      <th>4</th>\n",
              "      <td>Honesty, good work ethic, understanding of sys...</td>\n",
              "    </tr>\n",
              "    <tr>\n",
              "      <th>5</th>\n",
              "      <td>Common sense</td>\n",
              "    </tr>\n",
              "    <tr>\n",
              "      <th>6</th>\n",
              "      <td>I'm not sure. There are a lot of qualities a p...</td>\n",
              "    </tr>\n",
              "    <tr>\n",
              "      <th>7</th>\n",
              "      <td>Confident, eloquent, logical, wise, friendly, ...</td>\n",
              "    </tr>\n",
              "    <tr>\n",
              "      <th>8</th>\n",
              "      <td>Smart, good negotiator, appeals to the whole c...</td>\n",
              "    </tr>\n",
              "    <tr>\n",
              "      <th>9</th>\n",
              "      <td>Honesty and dedication</td>\n",
              "    </tr>\n",
              "    <tr>\n",
              "      <th>10</th>\n",
              "      <td>Good Character</td>\n",
              "    </tr>\n",
              "    <tr>\n",
              "      <th>11</th>\n",
              "      <td>Of course to be a leader someone who is except...</td>\n",
              "    </tr>\n",
              "    <tr>\n",
              "      <th>12</th>\n",
              "      <td>Leadership, empathy and decisiveness</td>\n",
              "    </tr>\n",
              "    <tr>\n",
              "      <th>13</th>\n",
              "      <td>Leadership management goals and achievement or...</td>\n",
              "    </tr>\n",
              "    <tr>\n",
              "      <th>14</th>\n",
              "      <td>Levelheadedness, commitment to the people, inc...</td>\n",
              "    </tr>\n",
              "    <tr>\n",
              "      <th>15</th>\n",
              "      <td>Controlling and smart</td>\n",
              "    </tr>\n",
              "    <tr>\n",
              "      <th>16</th>\n",
              "      <td>Leadership, integrity, honesty</td>\n",
              "    </tr>\n",
              "    <tr>\n",
              "      <th>17</th>\n",
              "      <td>Honesty, making promises that can be fulfilled...</td>\n",
              "    </tr>\n",
              "    <tr>\n",
              "      <th>18</th>\n",
              "      <td>Peaceful, calm, deliberate, proud</td>\n",
              "    </tr>\n",
              "    <tr>\n",
              "      <th>19</th>\n",
              "      <td>Background of politics and born in the u.s.</td>\n",
              "    </tr>\n",
              "    <tr>\n",
              "      <th>20</th>\n",
              "      <td>A president must be politically knowledgeable,...</td>\n",
              "    </tr>\n",
              "    <tr>\n",
              "      <th>21</th>\n",
              "      <td>Trustworthy, sophisticated, mature</td>\n",
              "    </tr>\n",
              "    <tr>\n",
              "      <th>22</th>\n",
              "      <td>You have to be honest, and have good ideas</td>\n",
              "    </tr>\n",
              "    <tr>\n",
              "      <th>23</th>\n",
              "      <td>Smart polite and nice</td>\n",
              "    </tr>\n",
              "    <tr>\n",
              "      <th>24</th>\n",
              "      <td>Unity, caring about others, no prejudices, det...</td>\n",
              "    </tr>\n",
              "    <tr>\n",
              "      <th>25</th>\n",
              "      <td>honesty and integrity</td>\n",
              "    </tr>\n",
              "    <tr>\n",
              "      <th>26</th>\n",
              "      <td>Intelligence, experience, kindness</td>\n",
              "    </tr>\n",
              "    <tr>\n",
              "      <th>27</th>\n",
              "      <td>Umm equality</td>\n",
              "    </tr>\n",
              "    <tr>\n",
              "      <th>28</th>\n",
              "      <td>Intelligence. Morality. Honesty. Trustworthine...</td>\n",
              "    </tr>\n",
              "    <tr>\n",
              "      <th>29</th>\n",
              "      <td>Compassion, bravery, intelligence, leadership,...</td>\n",
              "    </tr>\n",
              "    <tr>\n",
              "      <th>30</th>\n",
              "      <td>leadership, experience in politics, compassion...</td>\n",
              "    </tr>\n",
              "    <tr>\n",
              "      <th>31</th>\n",
              "      <td>Honesty, hard working, trustworthy</td>\n",
              "    </tr>\n",
              "    <tr>\n",
              "      <th>32</th>\n",
              "      <td>Experience in political office, ability to emp...</td>\n",
              "    </tr>\n",
              "    <tr>\n",
              "      <th>33</th>\n",
              "      <td>I think a president must have the morality to ...</td>\n",
              "    </tr>\n",
              "    <tr>\n",
              "      <th>34</th>\n",
              "      <td>Leadership skills, approachable, not prejudice...</td>\n",
              "    </tr>\n",
              "    <tr>\n",
              "      <th>35</th>\n",
              "      <td>A basic understanding of sociology</td>\n",
              "    </tr>\n",
              "    <tr>\n",
              "      <th>36</th>\n",
              "      <td>Determination</td>\n",
              "    </tr>\n",
              "    <tr>\n",
              "      <th>37</th>\n",
              "      <td>Intelligence, diplomacy, and humility</td>\n",
              "    </tr>\n",
              "    <tr>\n",
              "      <th>38</th>\n",
              "      <td>Strong leadership, vast knowledge</td>\n",
              "    </tr>\n",
              "  </tbody>\n",
              "</table>\n",
              "</div>"
            ],
            "text/plain": [
              "                                                    0\n",
              "1               Intelligence, integrity, decisiveness\n",
              "2           Honesty, passion, determination, teamwork\n",
              "3                         U have to be well qualified\n",
              "4   Honesty, good work ethic, understanding of sys...\n",
              "5                                        Common sense\n",
              "6   I'm not sure. There are a lot of qualities a p...\n",
              "7   Confident, eloquent, logical, wise, friendly, ...\n",
              "8   Smart, good negotiator, appeals to the whole c...\n",
              "9                              Honesty and dedication\n",
              "10                                     Good Character\n",
              "11  Of course to be a leader someone who is except...\n",
              "12               Leadership, empathy and decisiveness\n",
              "13  Leadership management goals and achievement or...\n",
              "14  Levelheadedness, commitment to the people, inc...\n",
              "15                              Controlling and smart\n",
              "16                     Leadership, integrity, honesty\n",
              "17  Honesty, making promises that can be fulfilled...\n",
              "18                  Peaceful, calm, deliberate, proud\n",
              "19        Background of politics and born in the u.s.\n",
              "20  A president must be politically knowledgeable,...\n",
              "21                 Trustworthy, sophisticated, mature\n",
              "22         You have to be honest, and have good ideas\n",
              "23                              Smart polite and nice\n",
              "24  Unity, caring about others, no prejudices, det...\n",
              "25                              honesty and integrity\n",
              "26                 Intelligence, experience, kindness\n",
              "27                                       Umm equality\n",
              "28  Intelligence. Morality. Honesty. Trustworthine...\n",
              "29  Compassion, bravery, intelligence, leadership,...\n",
              "30  leadership, experience in politics, compassion...\n",
              "31                 Honesty, hard working, trustworthy\n",
              "32  Experience in political office, ability to emp...\n",
              "33  I think a president must have the morality to ...\n",
              "34  Leadership skills, approachable, not prejudice...\n",
              "35                 A basic understanding of sociology\n",
              "36                                      Determination\n",
              "37              Intelligence, diplomacy, and humility\n",
              "38                  Strong leadership, vast knowledge"
            ]
          },
          "metadata": {},
          "execution_count": 1
        }
      ]
    },
    {
      "cell_type": "code",
      "metadata": {
        "colab": {
          "base_uri": "https://localhost:8080/",
          "height": 357
        },
        "id": "8TF5_oVe45pu",
        "outputId": "30ae24cb-1357-4306-d49a-f661c216f6e8"
      },
      "source": [
        "output = pd.read_excel('/content/assignment3_gold_labels.xlsx')\n",
        "output"
      ],
      "execution_count": null,
      "outputs": [
        {
          "output_type": "execute_result",
          "data": {
            "text/html": [
              "<div>\n",
              "<style scoped>\n",
              "    .dataframe tbody tr th:only-of-type {\n",
              "        vertical-align: middle;\n",
              "    }\n",
              "\n",
              "    .dataframe tbody tr th {\n",
              "        vertical-align: top;\n",
              "    }\n",
              "\n",
              "    .dataframe thead th {\n",
              "        text-align: right;\n",
              "    }\n",
              "</style>\n",
              "<table border=\"1\" class=\"dataframe\">\n",
              "  <thead>\n",
              "    <tr style=\"text-align: right;\">\n",
              "      <th></th>\n",
              "      <th>Labels Generated by Experts</th>\n",
              "    </tr>\n",
              "  </thead>\n",
              "  <tbody>\n",
              "    <tr>\n",
              "      <th>0</th>\n",
              "      <td>confident</td>\n",
              "    </tr>\n",
              "    <tr>\n",
              "      <th>1</th>\n",
              "      <td>determination</td>\n",
              "    </tr>\n",
              "    <tr>\n",
              "      <th>2</th>\n",
              "      <td>diplomacy</td>\n",
              "    </tr>\n",
              "    <tr>\n",
              "      <th>3</th>\n",
              "      <td>honesty</td>\n",
              "    </tr>\n",
              "    <tr>\n",
              "      <th>4</th>\n",
              "      <td>intelligence/knowledge</td>\n",
              "    </tr>\n",
              "    <tr>\n",
              "      <th>5</th>\n",
              "      <td>leadership</td>\n",
              "    </tr>\n",
              "    <tr>\n",
              "      <th>6</th>\n",
              "      <td>long term vision</td>\n",
              "    </tr>\n",
              "    <tr>\n",
              "      <th>7</th>\n",
              "      <td>political skills</td>\n",
              "    </tr>\n",
              "    <tr>\n",
              "      <th>8</th>\n",
              "      <td>relate to diverse groups</td>\n",
              "    </tr>\n",
              "    <tr>\n",
              "      <th>9</th>\n",
              "      <td>humble</td>\n",
              "    </tr>\n",
              "  </tbody>\n",
              "</table>\n",
              "</div>"
            ],
            "text/plain": [
              "  Labels Generated by Experts\n",
              "0                   confident\n",
              "1               determination\n",
              "2                   diplomacy\n",
              "3                     honesty\n",
              "4      intelligence/knowledge\n",
              "5                  leadership\n",
              "6            long term vision\n",
              "7           political skills \n",
              "8    relate to diverse groups\n",
              "9                      humble"
            ]
          },
          "metadata": {},
          "execution_count": 2
        }
      ]
    },
    {
      "cell_type": "code",
      "metadata": {
        "colab": {
          "base_uri": "https://localhost:8080/"
        },
        "id": "2IlymXM9yXdZ",
        "outputId": "00018b1c-857d-4992-ae1d-6eeefcc0434b"
      },
      "source": [
        "import csv,sys\n",
        "from sklearn.ensemble import RandomForestClassifier\n",
        "from nltk.corpus import stopwords\n",
        "import re\n",
        "from bs4 import BeautifulSoup\n",
        "import logging\n",
        "import pandas as pd\n",
        "import numpy as np\n",
        "from numpy import random\n",
        "import gensim\n",
        "import nltk\n",
        "from nltk.corpus import wordnet\n",
        "from sklearn.feature_extraction.text import CountVectorizer, TfidfVectorizer\n",
        "from sklearn.feature_extraction.text import TfidfTransformer\n",
        "from sklearn.model_selection import GridSearchCV \n",
        "from sklearn.pipeline import Pipeline\n",
        "from sklearn.naive_bayes import MultinomialNB\n",
        "from sklearn.linear_model import LogisticRegression\n",
        "from sklearn.model_selection import train_test_split\n",
        "from sklearn.model_selection import StratifiedKFold, train_test_split \n",
        "from sklearn.metrics import confusion_matrix,accuracy_score, precision_score, recall_score, f1_score\n",
        "from nltk.stem import PorterStemmer\n",
        "from nltk.stem import WordNetLemmatizer\n",
        "\n",
        "nltk.download('all')"
      ],
      "execution_count": null,
      "outputs": [
        {
          "output_type": "stream",
          "name": "stdout",
          "text": [
            "[nltk_data] Downloading collection 'all'\n",
            "[nltk_data]    | \n",
            "[nltk_data]    | Downloading package abc to /root/nltk_data...\n",
            "[nltk_data]    |   Unzipping corpora/abc.zip.\n",
            "[nltk_data]    | Downloading package alpino to /root/nltk_data...\n",
            "[nltk_data]    |   Unzipping corpora/alpino.zip.\n",
            "[nltk_data]    | Downloading package biocreative_ppi to\n",
            "[nltk_data]    |     /root/nltk_data...\n",
            "[nltk_data]    |   Unzipping corpora/biocreative_ppi.zip.\n",
            "[nltk_data]    | Downloading package brown to /root/nltk_data...\n",
            "[nltk_data]    |   Unzipping corpora/brown.zip.\n",
            "[nltk_data]    | Downloading package brown_tei to /root/nltk_data...\n",
            "[nltk_data]    |   Unzipping corpora/brown_tei.zip.\n",
            "[nltk_data]    | Downloading package cess_cat to /root/nltk_data...\n",
            "[nltk_data]    |   Unzipping corpora/cess_cat.zip.\n",
            "[nltk_data]    | Downloading package cess_esp to /root/nltk_data...\n",
            "[nltk_data]    |   Unzipping corpora/cess_esp.zip.\n",
            "[nltk_data]    | Downloading package chat80 to /root/nltk_data...\n",
            "[nltk_data]    |   Unzipping corpora/chat80.zip.\n",
            "[nltk_data]    | Downloading package city_database to\n",
            "[nltk_data]    |     /root/nltk_data...\n",
            "[nltk_data]    |   Unzipping corpora/city_database.zip.\n",
            "[nltk_data]    | Downloading package cmudict to /root/nltk_data...\n",
            "[nltk_data]    |   Unzipping corpora/cmudict.zip.\n",
            "[nltk_data]    | Downloading package comparative_sentences to\n",
            "[nltk_data]    |     /root/nltk_data...\n",
            "[nltk_data]    |   Unzipping corpora/comparative_sentences.zip.\n",
            "[nltk_data]    | Downloading package comtrans to /root/nltk_data...\n",
            "[nltk_data]    | Downloading package conll2000 to /root/nltk_data...\n",
            "[nltk_data]    |   Unzipping corpora/conll2000.zip.\n",
            "[nltk_data]    | Downloading package conll2002 to /root/nltk_data...\n",
            "[nltk_data]    |   Unzipping corpora/conll2002.zip.\n",
            "[nltk_data]    | Downloading package conll2007 to /root/nltk_data...\n",
            "[nltk_data]    | Downloading package crubadan to /root/nltk_data...\n",
            "[nltk_data]    |   Unzipping corpora/crubadan.zip.\n",
            "[nltk_data]    | Downloading package dependency_treebank to\n",
            "[nltk_data]    |     /root/nltk_data...\n",
            "[nltk_data]    |   Unzipping corpora/dependency_treebank.zip.\n",
            "[nltk_data]    | Downloading package dolch to /root/nltk_data...\n",
            "[nltk_data]    |   Unzipping corpora/dolch.zip.\n",
            "[nltk_data]    | Downloading package europarl_raw to\n",
            "[nltk_data]    |     /root/nltk_data...\n",
            "[nltk_data]    |   Unzipping corpora/europarl_raw.zip.\n",
            "[nltk_data]    | Downloading package floresta to /root/nltk_data...\n",
            "[nltk_data]    |   Unzipping corpora/floresta.zip.\n",
            "[nltk_data]    | Downloading package framenet_v15 to\n",
            "[nltk_data]    |     /root/nltk_data...\n",
            "[nltk_data]    |   Unzipping corpora/framenet_v15.zip.\n",
            "[nltk_data]    | Downloading package framenet_v17 to\n",
            "[nltk_data]    |     /root/nltk_data...\n",
            "[nltk_data]    |   Unzipping corpora/framenet_v17.zip.\n",
            "[nltk_data]    | Downloading package gazetteers to /root/nltk_data...\n",
            "[nltk_data]    |   Unzipping corpora/gazetteers.zip.\n",
            "[nltk_data]    | Downloading package genesis to /root/nltk_data...\n",
            "[nltk_data]    |   Unzipping corpora/genesis.zip.\n",
            "[nltk_data]    | Downloading package gutenberg to /root/nltk_data...\n",
            "[nltk_data]    |   Unzipping corpora/gutenberg.zip.\n",
            "[nltk_data]    | Downloading package ieer to /root/nltk_data...\n",
            "[nltk_data]    |   Unzipping corpora/ieer.zip.\n",
            "[nltk_data]    | Downloading package inaugural to /root/nltk_data...\n",
            "[nltk_data]    |   Unzipping corpora/inaugural.zip.\n",
            "[nltk_data]    | Downloading package indian to /root/nltk_data...\n",
            "[nltk_data]    |   Unzipping corpora/indian.zip.\n",
            "[nltk_data]    | Downloading package jeita to /root/nltk_data...\n",
            "[nltk_data]    | Downloading package kimmo to /root/nltk_data...\n",
            "[nltk_data]    |   Unzipping corpora/kimmo.zip.\n",
            "[nltk_data]    | Downloading package knbc to /root/nltk_data...\n",
            "[nltk_data]    | Downloading package lin_thesaurus to\n",
            "[nltk_data]    |     /root/nltk_data...\n",
            "[nltk_data]    |   Unzipping corpora/lin_thesaurus.zip.\n",
            "[nltk_data]    | Downloading package mac_morpho to /root/nltk_data...\n",
            "[nltk_data]    |   Unzipping corpora/mac_morpho.zip.\n",
            "[nltk_data]    | Downloading package machado to /root/nltk_data...\n",
            "[nltk_data]    | Downloading package masc_tagged to /root/nltk_data...\n",
            "[nltk_data]    | Downloading package moses_sample to\n",
            "[nltk_data]    |     /root/nltk_data...\n",
            "[nltk_data]    |   Unzipping models/moses_sample.zip.\n",
            "[nltk_data]    | Downloading package movie_reviews to\n",
            "[nltk_data]    |     /root/nltk_data...\n",
            "[nltk_data]    |   Unzipping corpora/movie_reviews.zip.\n",
            "[nltk_data]    | Downloading package names to /root/nltk_data...\n",
            "[nltk_data]    |   Unzipping corpora/names.zip.\n",
            "[nltk_data]    | Downloading package nombank.1.0 to /root/nltk_data...\n",
            "[nltk_data]    | Downloading package nps_chat to /root/nltk_data...\n",
            "[nltk_data]    |   Unzipping corpora/nps_chat.zip.\n",
            "[nltk_data]    | Downloading package omw to /root/nltk_data...\n",
            "[nltk_data]    |   Unzipping corpora/omw.zip.\n",
            "[nltk_data]    | Downloading package opinion_lexicon to\n",
            "[nltk_data]    |     /root/nltk_data...\n",
            "[nltk_data]    |   Unzipping corpora/opinion_lexicon.zip.\n",
            "[nltk_data]    | Downloading package paradigms to /root/nltk_data...\n",
            "[nltk_data]    |   Unzipping corpora/paradigms.zip.\n",
            "[nltk_data]    | Downloading package pil to /root/nltk_data...\n",
            "[nltk_data]    |   Unzipping corpora/pil.zip.\n",
            "[nltk_data]    | Downloading package pl196x to /root/nltk_data...\n",
            "[nltk_data]    |   Unzipping corpora/pl196x.zip.\n",
            "[nltk_data]    | Downloading package ppattach to /root/nltk_data...\n",
            "[nltk_data]    |   Unzipping corpora/ppattach.zip.\n",
            "[nltk_data]    | Downloading package problem_reports to\n",
            "[nltk_data]    |     /root/nltk_data...\n",
            "[nltk_data]    |   Unzipping corpora/problem_reports.zip.\n",
            "[nltk_data]    | Downloading package propbank to /root/nltk_data...\n",
            "[nltk_data]    | Downloading package ptb to /root/nltk_data...\n",
            "[nltk_data]    |   Unzipping corpora/ptb.zip.\n",
            "[nltk_data]    | Downloading package product_reviews_1 to\n",
            "[nltk_data]    |     /root/nltk_data...\n",
            "[nltk_data]    |   Unzipping corpora/product_reviews_1.zip.\n",
            "[nltk_data]    | Downloading package product_reviews_2 to\n",
            "[nltk_data]    |     /root/nltk_data...\n",
            "[nltk_data]    |   Unzipping corpora/product_reviews_2.zip.\n",
            "[nltk_data]    | Downloading package pros_cons to /root/nltk_data...\n",
            "[nltk_data]    |   Unzipping corpora/pros_cons.zip.\n",
            "[nltk_data]    | Downloading package qc to /root/nltk_data...\n",
            "[nltk_data]    |   Unzipping corpora/qc.zip.\n",
            "[nltk_data]    | Downloading package reuters to /root/nltk_data...\n",
            "[nltk_data]    | Downloading package rte to /root/nltk_data...\n",
            "[nltk_data]    |   Unzipping corpora/rte.zip.\n",
            "[nltk_data]    | Downloading package semcor to /root/nltk_data...\n",
            "[nltk_data]    | Downloading package senseval to /root/nltk_data...\n",
            "[nltk_data]    |   Unzipping corpora/senseval.zip.\n",
            "[nltk_data]    | Downloading package sentiwordnet to\n",
            "[nltk_data]    |     /root/nltk_data...\n",
            "[nltk_data]    |   Unzipping corpora/sentiwordnet.zip.\n",
            "[nltk_data]    | Downloading package sentence_polarity to\n",
            "[nltk_data]    |     /root/nltk_data...\n",
            "[nltk_data]    |   Unzipping corpora/sentence_polarity.zip.\n",
            "[nltk_data]    | Downloading package shakespeare to /root/nltk_data...\n",
            "[nltk_data]    |   Unzipping corpora/shakespeare.zip.\n",
            "[nltk_data]    | Downloading package sinica_treebank to\n",
            "[nltk_data]    |     /root/nltk_data...\n",
            "[nltk_data]    |   Unzipping corpora/sinica_treebank.zip.\n",
            "[nltk_data]    | Downloading package smultron to /root/nltk_data...\n",
            "[nltk_data]    |   Unzipping corpora/smultron.zip.\n",
            "[nltk_data]    | Downloading package state_union to /root/nltk_data...\n",
            "[nltk_data]    |   Unzipping corpora/state_union.zip.\n",
            "[nltk_data]    | Downloading package stopwords to /root/nltk_data...\n",
            "[nltk_data]    |   Unzipping corpora/stopwords.zip.\n",
            "[nltk_data]    | Downloading package subjectivity to\n",
            "[nltk_data]    |     /root/nltk_data...\n",
            "[nltk_data]    |   Unzipping corpora/subjectivity.zip.\n",
            "[nltk_data]    | Downloading package swadesh to /root/nltk_data...\n",
            "[nltk_data]    |   Unzipping corpora/swadesh.zip.\n",
            "[nltk_data]    | Downloading package switchboard to /root/nltk_data...\n",
            "[nltk_data]    |   Unzipping corpora/switchboard.zip.\n",
            "[nltk_data]    | Downloading package timit to /root/nltk_data...\n",
            "[nltk_data]    |   Unzipping corpora/timit.zip.\n",
            "[nltk_data]    | Downloading package toolbox to /root/nltk_data...\n",
            "[nltk_data]    |   Unzipping corpora/toolbox.zip.\n",
            "[nltk_data]    | Downloading package treebank to /root/nltk_data...\n",
            "[nltk_data]    |   Unzipping corpora/treebank.zip.\n",
            "[nltk_data]    | Downloading package twitter_samples to\n",
            "[nltk_data]    |     /root/nltk_data...\n",
            "[nltk_data]    |   Unzipping corpora/twitter_samples.zip.\n",
            "[nltk_data]    | Downloading package udhr to /root/nltk_data...\n",
            "[nltk_data]    |   Unzipping corpora/udhr.zip.\n",
            "[nltk_data]    | Downloading package udhr2 to /root/nltk_data...\n",
            "[nltk_data]    |   Unzipping corpora/udhr2.zip.\n",
            "[nltk_data]    | Downloading package unicode_samples to\n",
            "[nltk_data]    |     /root/nltk_data...\n",
            "[nltk_data]    |   Unzipping corpora/unicode_samples.zip.\n",
            "[nltk_data]    | Downloading package universal_treebanks_v20 to\n",
            "[nltk_data]    |     /root/nltk_data...\n",
            "[nltk_data]    | Downloading package verbnet to /root/nltk_data...\n",
            "[nltk_data]    |   Unzipping corpora/verbnet.zip.\n",
            "[nltk_data]    | Downloading package verbnet3 to /root/nltk_data...\n",
            "[nltk_data]    |   Unzipping corpora/verbnet3.zip.\n",
            "[nltk_data]    | Downloading package webtext to /root/nltk_data...\n",
            "[nltk_data]    |   Unzipping corpora/webtext.zip.\n",
            "[nltk_data]    | Downloading package wordnet to /root/nltk_data...\n",
            "[nltk_data]    |   Unzipping corpora/wordnet.zip.\n",
            "[nltk_data]    | Downloading package wordnet31 to /root/nltk_data...\n",
            "[nltk_data]    |   Unzipping corpora/wordnet31.zip.\n",
            "[nltk_data]    | Downloading package wordnet_ic to /root/nltk_data...\n",
            "[nltk_data]    |   Unzipping corpora/wordnet_ic.zip.\n",
            "[nltk_data]    | Downloading package words to /root/nltk_data...\n",
            "[nltk_data]    |   Unzipping corpora/words.zip.\n",
            "[nltk_data]    | Downloading package ycoe to /root/nltk_data...\n",
            "[nltk_data]    |   Unzipping corpora/ycoe.zip.\n",
            "[nltk_data]    | Downloading package rslp to /root/nltk_data...\n",
            "[nltk_data]    |   Unzipping stemmers/rslp.zip.\n",
            "[nltk_data]    | Downloading package maxent_treebank_pos_tagger to\n",
            "[nltk_data]    |     /root/nltk_data...\n",
            "[nltk_data]    |   Unzipping taggers/maxent_treebank_pos_tagger.zip.\n",
            "[nltk_data]    | Downloading package universal_tagset to\n",
            "[nltk_data]    |     /root/nltk_data...\n",
            "[nltk_data]    |   Unzipping taggers/universal_tagset.zip.\n",
            "[nltk_data]    | Downloading package maxent_ne_chunker to\n",
            "[nltk_data]    |     /root/nltk_data...\n",
            "[nltk_data]    |   Unzipping chunkers/maxent_ne_chunker.zip.\n",
            "[nltk_data]    | Downloading package punkt to /root/nltk_data...\n",
            "[nltk_data]    |   Unzipping tokenizers/punkt.zip.\n",
            "[nltk_data]    | Downloading package book_grammars to\n",
            "[nltk_data]    |     /root/nltk_data...\n",
            "[nltk_data]    |   Unzipping grammars/book_grammars.zip.\n",
            "[nltk_data]    | Downloading package sample_grammars to\n",
            "[nltk_data]    |     /root/nltk_data...\n",
            "[nltk_data]    |   Unzipping grammars/sample_grammars.zip.\n",
            "[nltk_data]    | Downloading package spanish_grammars to\n",
            "[nltk_data]    |     /root/nltk_data...\n",
            "[nltk_data]    |   Unzipping grammars/spanish_grammars.zip.\n",
            "[nltk_data]    | Downloading package basque_grammars to\n",
            "[nltk_data]    |     /root/nltk_data...\n",
            "[nltk_data]    |   Unzipping grammars/basque_grammars.zip.\n",
            "[nltk_data]    | Downloading package large_grammars to\n",
            "[nltk_data]    |     /root/nltk_data...\n",
            "[nltk_data]    |   Unzipping grammars/large_grammars.zip.\n",
            "[nltk_data]    | Downloading package tagsets to /root/nltk_data...\n",
            "[nltk_data]    |   Unzipping help/tagsets.zip.\n",
            "[nltk_data]    | Downloading package snowball_data to\n",
            "[nltk_data]    |     /root/nltk_data...\n",
            "[nltk_data]    | Downloading package bllip_wsj_no_aux to\n",
            "[nltk_data]    |     /root/nltk_data...\n",
            "[nltk_data]    |   Unzipping models/bllip_wsj_no_aux.zip.\n",
            "[nltk_data]    | Downloading package word2vec_sample to\n",
            "[nltk_data]    |     /root/nltk_data...\n",
            "[nltk_data]    |   Unzipping models/word2vec_sample.zip.\n",
            "[nltk_data]    | Downloading package panlex_swadesh to\n",
            "[nltk_data]    |     /root/nltk_data...\n",
            "[nltk_data]    | Downloading package mte_teip5 to /root/nltk_data...\n",
            "[nltk_data]    |   Unzipping corpora/mte_teip5.zip.\n",
            "[nltk_data]    | Downloading package averaged_perceptron_tagger to\n",
            "[nltk_data]    |     /root/nltk_data...\n",
            "[nltk_data]    |   Unzipping taggers/averaged_perceptron_tagger.zip.\n",
            "[nltk_data]    | Downloading package averaged_perceptron_tagger_ru to\n",
            "[nltk_data]    |     /root/nltk_data...\n",
            "[nltk_data]    |   Unzipping\n",
            "[nltk_data]    |       taggers/averaged_perceptron_tagger_ru.zip.\n",
            "[nltk_data]    | Downloading package perluniprops to\n",
            "[nltk_data]    |     /root/nltk_data...\n",
            "[nltk_data]    |   Unzipping misc/perluniprops.zip.\n",
            "[nltk_data]    | Downloading package nonbreaking_prefixes to\n",
            "[nltk_data]    |     /root/nltk_data...\n",
            "[nltk_data]    |   Unzipping corpora/nonbreaking_prefixes.zip.\n",
            "[nltk_data]    | Downloading package vader_lexicon to\n",
            "[nltk_data]    |     /root/nltk_data...\n",
            "[nltk_data]    | Downloading package porter_test to /root/nltk_data...\n",
            "[nltk_data]    |   Unzipping stemmers/porter_test.zip.\n",
            "[nltk_data]    | Downloading package wmt15_eval to /root/nltk_data...\n",
            "[nltk_data]    |   Unzipping models/wmt15_eval.zip.\n",
            "[nltk_data]    | Downloading package mwa_ppdb to /root/nltk_data...\n",
            "[nltk_data]    |   Unzipping misc/mwa_ppdb.zip.\n",
            "[nltk_data]    | \n",
            "[nltk_data]  Done downloading collection all\n"
          ]
        },
        {
          "output_type": "execute_result",
          "data": {
            "text/plain": [
              "True"
            ]
          },
          "metadata": {},
          "execution_count": 3
        }
      ]
    },
    {
      "cell_type": "code",
      "metadata": {
        "id": "2ZUwpRbLy8ot"
      },
      "source": [
        "analyzer = CountVectorizer().build_analyzer()\n",
        "\n",
        "def stemmed_words(doc):\n",
        "  return (PorterStemmer().stem(w) for w in analyzer(doc))\n",
        "\n",
        "def lemmatized_words(doc):\n",
        "  return (WordNetLemmatizer().lemmatize(w) for w in analyzer(doc))\n"
      ],
      "execution_count": null,
      "outputs": []
    },
    {
      "cell_type": "code",
      "metadata": {
        "id": "hQ8zc4oNzKc3"
      },
      "source": [
        "REPLACE_BY_SPACE_RE = re.compile('[/(){}\\[\\]\\|@,;]')\n",
        "BAD_SYMBOLS_RE = re.compile('[^0-9a-z #+_]')\n",
        "STOPWORDS = set(stopwords.words('english'))\n",
        "\n",
        "def clean_text(text, type):\n",
        "    \"\"\"\n",
        "        text: a string\n",
        "        \n",
        "        return: modified initial string\n",
        "    \"\"\"\n",
        "    # text = BeautifulSoup(text, \"lxml\").text # HTML decoding\n",
        "    # text = text.lower() # lowercase text\n",
        "    # text = REPLACE_BY_SPACE_RE.sub(' ', text) # replace REPLACE_BY_SPACE_RE symbols by space in text\n",
        "    # text = BAD_SYMBOLS_RE.sub('', text) # delete symbols which are in BAD_SYMBOLS_RE from text\n",
        "    #text = ' '.join(word for word in text.split() if word not in STOPWORDS) # delete stopwors from text\n",
        "    #text = ' '.join(word for word in analyzer(text) if word not in STOPWORDS) # delete stopwors from text\n",
        "    #text = ' '.join(WordNetLemmatizer().lemmatize(w) for w in analyzer(text))\n",
        "    if type == 1:\n",
        "      text = ' '.join(word for word in text.split() if word not in STOPWORDS) # delete stopwors from text\n",
        "    elif type == 2:\n",
        "      #print('only_stop')\n",
        "      text = ' '.join(word for word in analyzer(text) if word not in STOPWORDS)\n",
        "    \n",
        "    elif type == 3:\n",
        "      text = ' '.join(PorterStemmer().stem(w) for w in analyzer(text))\n",
        "    elif type == 4:\n",
        "      text = ' '.join(WordNetLemmatizer().lemmatize(w) for w in analyzer(text))\n",
        "    elif type == 5:\n",
        "      text = ' '.join(word for word in analyzer(text) if word not in STOPWORDS)\n",
        "      text = ' '.join(PorterStemmer().stem(w) for w in analyzer(text))\n",
        "    elif type == 6:\n",
        "      text = text.lower()\n",
        "      text = ' '.join(word for word in analyzer(text) if word not in STOPWORDS)\n",
        "      text = ' '.join(WordNetLemmatizer().lemmatize(w) for w in analyzer(text))\n",
        "      #text = ' '.join(PorterStemmer().stem(w) for w in analyzer(text))\n",
        "    return text"
      ],
      "execution_count": null,
      "outputs": []
    },
    {
      "cell_type": "code",
      "metadata": {
        "id": "ii-D7iWnzpbI"
      },
      "source": [
        "df[0] = df[0].apply(clean_text, args= (6,))"
      ],
      "execution_count": null,
      "outputs": []
    },
    {
      "cell_type": "code",
      "metadata": {
        "colab": {
          "base_uri": "https://localhost:8080/"
        },
        "id": "aL_Soan5z2nB",
        "outputId": "b30ff4dd-35a2-4499-8570-43d7df6150bd"
      },
      "source": [
        "df_word_list = df[0].to_numpy()\n",
        "df_word_list\n",
        "word_list = []\n",
        "for i in range(len(df_word_list)):\n",
        "  #print(i)\n",
        "  tokens = nltk.word_tokenize(df_word_list[i])\n",
        "  #print(tokens)\n",
        "  for t in tokens: \n",
        "    word_list.append(t)\n",
        "\n",
        "\n",
        "#tokens = nltk.word_tokenize(df_word_list[0])\n",
        "#word_list\n",
        "print('word_list',len(word_list))\n",
        "\n",
        "tags = nltk.pos_tag(word_list)\n",
        "nouns = [word for word,pos in tags if (pos == 'NN' or pos == 'NNP' or pos == 'NNS' or pos == 'NNPS')]\n",
        "adjective = [word for word,pos in tags if (pos == 'JJ' or pos == 'JJS' or pos == 'JJR')]\n",
        "print('nouns', nouns, len(nouns))\n",
        "print('adjective', adjective, len(adjective))\n",
        "noun__adj=  [word for word,pos in tags if (pos == 'NN' or pos == 'NNP' or pos == 'NNS' or pos == 'NNPS'or pos == 'JJ' or pos == 'JJS' or pos == 'JJR')]\n",
        "print('noun_adjective', noun__adj, len(noun__adj))\n",
        "\n",
        "\n"
      ],
      "execution_count": null,
      "outputs": [
        {
          "output_type": "stream",
          "name": "stdout",
          "text": [
            "word_list 196\n",
            "nouns ['intelligence', 'integrity', 'decisiveness', 'honesty', 'passion', 'determination', 'teamwork', 'honesty', 'work', 'system', 'sense', 'lot', 'quality', 'president', 'president', 'country', 'wise', 'negotiator', 'appeal', 'county', 'honesty', 'dedication', 'character', 'course', 'leader', 'someone', 'run', 'country', 'someone', 'decision', 'time', 'leadership', 'leadership', 'management', 'goal', 'achievement', 'term', 'commitment', 'people', 'inclusivity', 'leadership', 'integrity', 'honesty', 'honesty', 'promise', 'calm', 'deliberate', 'background', 'politics', 'president', 'compromise', 'selfless', 'level', 'mature', 'idea', 'unity', 'others', 'determination', 'willingness', 'work', 'others', 'integrity', 'intelligence', 'experience', 'kindness', 'equality', 'intelligence', 'morality', 'honesty', 'trustworthiness', 'problem', 'ability', 'genuine', 'care', 'others', 'leadership', 'compassion', 'bravery', 'intelligence', 'leadership', 'teamwork', 'leadership', 'experience', 'politics', 'compassion', 'dedication', 'honesty', 'office', 'ability', 'group', 'people', 'ability', 'situation', 'relation', 'experience', 'country', 'constitution', 'president', 'join', 'people', 'group', 'leadership', 'leadership', 'skill', 'prejudice', 'sociology', 'determination', 'intelligence', 'diplomacy', 'humility', 'leadership', 'vast', 'knowledge'] 113\n",
            "adjective ['qualified', 'good', 'understanding', 'progressive', 'common', 'sure', 'confident', 'eloquent', 'logical', 'humble', 'smart', 'good', 'whole', 'good', 'smart', 'capable', 'crucial', 'come', 'empathy', 'decisiveness', 'long', 'levelheadedness', 'smart', 'idiot', 'peaceful', 'proud', 'born', 'agreeable', 'able', 'sophisticated', 'honest', 'good', 'polite', 'nice', 'prejudice', 'umm', 'skill', 'hard', 'trustworthy', 'political', 'different', 'ulterior', 'motif', 'stressful', 'international', 'commitment', 'underprivileged', 'different', 'strong', 'approachable', 'basic', 'strong'] 52\n",
            "noun_adjective ['intelligence', 'integrity', 'decisiveness', 'honesty', 'passion', 'determination', 'teamwork', 'qualified', 'honesty', 'good', 'work', 'understanding', 'system', 'progressive', 'common', 'sense', 'sure', 'lot', 'quality', 'president', 'president', 'country', 'confident', 'eloquent', 'logical', 'wise', 'humble', 'smart', 'good', 'negotiator', 'appeal', 'whole', 'county', 'honesty', 'dedication', 'good', 'character', 'course', 'leader', 'someone', 'smart', 'run', 'country', 'someone', 'capable', 'crucial', 'decision', 'time', 'come', 'leadership', 'empathy', 'decisiveness', 'leadership', 'management', 'goal', 'achievement', 'long', 'term', 'levelheadedness', 'commitment', 'people', 'inclusivity', 'smart', 'leadership', 'integrity', 'honesty', 'honesty', 'promise', 'idiot', 'peaceful', 'calm', 'deliberate', 'proud', 'background', 'politics', 'born', 'president', 'agreeable', 'able', 'compromise', 'selfless', 'level', 'sophisticated', 'mature', 'honest', 'good', 'idea', 'polite', 'nice', 'unity', 'others', 'prejudice', 'determination', 'willingness', 'work', 'others', 'integrity', 'intelligence', 'experience', 'kindness', 'umm', 'equality', 'intelligence', 'morality', 'honesty', 'trustworthiness', 'problem', 'ability', 'genuine', 'care', 'others', 'leadership', 'compassion', 'bravery', 'intelligence', 'leadership', 'teamwork', 'skill', 'leadership', 'experience', 'politics', 'compassion', 'dedication', 'honesty', 'hard', 'trustworthy', 'political', 'office', 'ability', 'different', 'group', 'people', 'ulterior', 'motif', 'ability', 'stressful', 'situation', 'international', 'relation', 'experience', 'commitment', 'country', 'constitution', 'president', 'underprivileged', 'join', 'people', 'different', 'group', 'strong', 'leadership', 'leadership', 'skill', 'approachable', 'prejudice', 'basic', 'sociology', 'determination', 'intelligence', 'diplomacy', 'humility', 'strong', 'leadership', 'vast', 'knowledge'] 165\n"
          ]
        }
      ]
    },
    {
      "cell_type": "code",
      "metadata": {
        "id": "2J8urfkYs2ag"
      },
      "source": [
        ""
      ],
      "execution_count": null,
      "outputs": []
    },
    {
      "cell_type": "code",
      "metadata": {
        "id": "WhBAdBTMLhzA"
      },
      "source": [
        "# uniqueWords = [] \n",
        "# for i in noun__adj:\n",
        "#       if not i in uniqueWords:\n",
        "#           uniqueWords.append(i);\n",
        "# len(uniqueWords)\n",
        "\n",
        "# top_5_added_word=[]\n",
        "# for word in uniqueWords:\n",
        "#   top_5_added_word.append(word)\n",
        "#   synonyms = []\n",
        "#   for syn in wordnet.synsets(word):\n",
        "#     for l in syn.lemmas():\n",
        "#         synonyms.append(l.name())\n",
        "#   #print(synonyms)\n",
        "\n",
        "#   if len(synonyms)>5 :\n",
        "#     for i in range(5):\n",
        "#       top_5_added_word.append(synonyms[i].lower())\n",
        "#   else:\n",
        "#     for i in range(len(synonyms)):\n",
        "#       top_5_added_word.append(synonyms[i].lower())\n",
        "#   #exit()\n",
        "\n",
        "# print(len(top_5_added_word))\n"
      ],
      "execution_count": null,
      "outputs": []
    },
    {
      "cell_type": "markdown",
      "metadata": {
        "id": "Y0wlIjJBhX61"
      },
      "source": [
        "# googlenews"
      ]
    },
    {
      "cell_type": "code",
      "metadata": {
        "colab": {
          "base_uri": "https://localhost:8080/"
        },
        "id": "CjTGgitQUkTD",
        "outputId": "0df39d20-df7c-4063-adfe-e13d0c9f5097"
      },
      "source": [
        "!wget -c \"https://s3.amazonaws.com/dl4j-distribution/GoogleNews-vectors-negative300.bin.gz\""
      ],
      "execution_count": null,
      "outputs": [
        {
          "output_type": "stream",
          "name": "stdout",
          "text": [
            "--2022-02-15 13:40:51--  https://s3.amazonaws.com/dl4j-distribution/GoogleNews-vectors-negative300.bin.gz\n",
            "Resolving s3.amazonaws.com (s3.amazonaws.com)... 52.217.134.160\n",
            "Connecting to s3.amazonaws.com (s3.amazonaws.com)|52.217.134.160|:443... connected.\n",
            "HTTP request sent, awaiting response... 200 OK\n",
            "Length: 1647046227 (1.5G) [application/x-gzip]\n",
            "Saving to: ‘GoogleNews-vectors-negative300.bin.gz’\n",
            "\n",
            "GoogleNews-vectors- 100%[===================>]   1.53G  34.7MB/s    in 48s     \n",
            "\n",
            "2022-02-15 13:41:39 (33.0 MB/s) - ‘GoogleNews-vectors-negative300.bin.gz’ saved [1647046227/1647046227]\n",
            "\n"
          ]
        }
      ]
    },
    {
      "cell_type": "code",
      "metadata": {
        "colab": {
          "base_uri": "https://localhost:8080/"
        },
        "id": "KqGz6f3eTZo4",
        "outputId": "1401f688-aa12-4af6-9337-af5864d09e07"
      },
      "source": [
        "from gensim.models import KeyedVectors\n",
        "filename = '/content/GoogleNews-vectors-negative300.bin.gz'\n",
        "model = KeyedVectors.load_word2vec_format(filename, binary=True)\n",
        "words = list(model.wv.vocab)\n",
        "print(len(words))"
      ],
      "execution_count": null,
      "outputs": [
        {
          "output_type": "stream",
          "name": "stdout",
          "text": [
            "3000000\n"
          ]
        },
        {
          "output_type": "stream",
          "name": "stderr",
          "text": [
            "/usr/local/lib/python3.7/dist-packages/ipykernel_launcher.py:4: DeprecationWarning: Call to deprecated `wv` (Attribute will be removed in 4.0.0, use self instead).\n",
            "  after removing the cwd from sys.path.\n"
          ]
        }
      ]
    },
    {
      "cell_type": "code",
      "source": [
        "model['word','terpene', 'class'].shape, model['word']"
      ],
      "metadata": {
        "colab": {
          "base_uri": "https://localhost:8080/"
        },
        "id": "q4OhZ9JUoFmX",
        "outputId": "062f58af-e72c-45e4-e271-4a9170eb6cb4"
      },
      "execution_count": null,
      "outputs": [
        {
          "output_type": "execute_result",
          "data": {
            "text/plain": [
              "((3, 300),\n",
              " array([ 3.59375000e-01,  4.15039062e-02,  9.03320312e-02,  5.46875000e-02,\n",
              "        -1.47460938e-01,  4.76074219e-02, -8.49609375e-02, -2.04101562e-01,\n",
              "         3.10546875e-01, -1.05590820e-02, -6.15234375e-02, -1.55273438e-01,\n",
              "        -1.52343750e-01,  8.54492188e-02, -2.70996094e-02,  3.84765625e-01,\n",
              "         4.78515625e-02,  2.58789062e-02,  4.49218750e-02, -2.79296875e-01,\n",
              "         9.09423828e-03,  4.08203125e-01,  2.40234375e-01, -3.06640625e-01,\n",
              "        -1.80664062e-01,  4.73632812e-02, -2.63671875e-01,  9.08203125e-02,\n",
              "         1.37695312e-01, -7.20977783e-04,  2.67333984e-02,  1.92382812e-01,\n",
              "        -2.29492188e-02,  9.70458984e-03, -7.37304688e-02,  4.29687500e-01,\n",
              "        -7.93457031e-03,  1.06445312e-01,  2.80761719e-02, -2.29492188e-01,\n",
              "        -1.91650391e-02, -2.36816406e-02,  3.51562500e-02,  1.71875000e-01,\n",
              "        -1.12304688e-01,  6.25000000e-02, -1.69921875e-01,  1.29882812e-01,\n",
              "        -1.54296875e-01,  1.58203125e-01, -7.76367188e-02,  1.78710938e-01,\n",
              "        -1.72851562e-01,  9.96093750e-02,  3.94531250e-01,  6.44531250e-02,\n",
              "        -6.83593750e-02, -3.18359375e-01,  5.95703125e-02, -1.02539062e-02,\n",
              "         9.37500000e-02,  8.25195312e-02, -2.52685547e-02,  1.09863281e-01,\n",
              "        -6.73828125e-02, -1.70898438e-01,  6.78710938e-02,  1.04492188e-01,\n",
              "        -2.11914062e-01,  1.30859375e-01, -1.24573708e-05,  1.85546875e-02,\n",
              "        -1.61132812e-01, -8.00781250e-02,  9.42382812e-02, -8.78906250e-02,\n",
              "         1.82617188e-01, -2.48718262e-03,  8.74023438e-02,  1.75781250e-01,\n",
              "        -2.17285156e-02, -1.96289062e-01,  9.52148438e-02, -5.15136719e-02,\n",
              "         1.01928711e-02,  6.22558594e-02, -2.13867188e-01,  2.25585938e-01,\n",
              "         2.46093750e-01, -6.12792969e-02,  1.74560547e-02, -1.46484375e-01,\n",
              "         3.93676758e-03, -1.62109375e-01, -1.10839844e-01,  6.88476562e-02,\n",
              "        -1.83593750e-01,  1.13281250e-01,  9.08203125e-02, -1.64062500e-01,\n",
              "        -3.71093750e-01, -5.39550781e-02, -8.66699219e-03, -1.18164062e-01,\n",
              "        -5.93261719e-02,  8.74023438e-02, -1.98242188e-01, -1.36718750e-01,\n",
              "         6.39648438e-02, -1.88476562e-01, -2.96875000e-01,  6.39648438e-02,\n",
              "         2.16796875e-01, -7.71484375e-02,  1.13769531e-01,  1.96533203e-02,\n",
              "         2.31445312e-01,  6.59179688e-02,  1.02539062e-01, -6.39648438e-02,\n",
              "        -1.48437500e-01, -5.59082031e-02, -2.43164062e-01,  2.71484375e-01,\n",
              "         1.83593750e-01,  3.06396484e-02, -2.01416016e-02, -1.53320312e-01,\n",
              "         7.08007812e-02, -2.35595703e-02, -9.66796875e-02, -2.83203125e-01,\n",
              "        -2.57568359e-02, -7.42187500e-02, -4.27246094e-02,  6.98242188e-02,\n",
              "        -1.74804688e-01,  2.27539062e-01,  2.92968750e-01, -1.86767578e-02,\n",
              "         2.94921875e-01, -1.12304688e-01,  4.85839844e-02, -2.15820312e-01,\n",
              "         1.03149414e-02, -1.14257812e-01, -6.39648438e-02,  7.27539062e-02,\n",
              "        -1.47460938e-01, -2.16796875e-01,  1.32812500e-01,  1.83593750e-01,\n",
              "        -1.48437500e-01, -1.31835938e-01, -3.73535156e-02,  1.19628906e-01,\n",
              "        -2.01171875e-01,  1.00097656e-01, -8.93554688e-02,  1.23596191e-03,\n",
              "         7.17773438e-02,  1.42578125e-01, -3.03955078e-02, -1.89453125e-01,\n",
              "        -8.88671875e-02,  3.83300781e-02, -1.74804688e-01, -3.66210938e-03,\n",
              "        -2.08007812e-01,  8.97216797e-03,  2.35351562e-01,  1.06933594e-01,\n",
              "        -2.65625000e-01, -2.16796875e-01,  7.08007812e-02,  9.08203125e-02,\n",
              "         3.00781250e-01, -1.07421875e-01,  1.01562500e-01, -6.25000000e-02,\n",
              "         1.33789062e-01, -1.62353516e-02,  2.50000000e-01, -1.72851562e-01,\n",
              "         3.32031250e-01,  1.12304688e-01, -1.47705078e-02, -1.04980469e-01,\n",
              "        -8.05664062e-02,  3.30078125e-01,  9.32617188e-02, -1.47460938e-01,\n",
              "        -2.05078125e-01, -7.56835938e-02, -1.04492188e-01,  6.25000000e-02,\n",
              "        -2.02148438e-01, -1.09375000e-01, -8.05664062e-02,  5.49316406e-02,\n",
              "        -8.88671875e-02,  5.24902344e-02, -2.23632812e-01,  5.17578125e-02,\n",
              "        -1.83593750e-01, -6.73828125e-02, -9.13085938e-02,  1.29882812e-01,\n",
              "        -2.31933594e-02, -1.04003906e-01,  1.79687500e-01,  8.34960938e-02,\n",
              "        -8.78906250e-02, -2.17773438e-01, -6.34765625e-02,  1.33789062e-01,\n",
              "         1.62109375e-01,  2.87109375e-01, -1.14257812e-01,  6.05468750e-02,\n",
              "         1.49414062e-01, -3.08227539e-03,  1.96289062e-01, -8.98437500e-02,\n",
              "         1.45507812e-01,  1.02539062e-02,  1.22070312e-02,  3.20312500e-01,\n",
              "         1.24511719e-01,  1.20849609e-02, -1.78710938e-01,  3.71093750e-02,\n",
              "         6.98242188e-02,  1.62109375e-01,  9.86328125e-02, -2.61718750e-01,\n",
              "         1.89453125e-01, -2.83203125e-02,  4.06250000e-01,  3.56445312e-02,\n",
              "         3.10058594e-02,  2.27050781e-02,  1.30859375e-01, -1.05957031e-01,\n",
              "         8.69140625e-02, -9.76562500e-02,  1.89453125e-01,  3.17382812e-02,\n",
              "         1.10351562e-01,  2.11914062e-01, -1.66992188e-01,  1.45263672e-02,\n",
              "         1.15234375e-01,  1.59179688e-01,  9.91210938e-02, -2.40234375e-01,\n",
              "        -2.34375000e-01,  1.74804688e-01,  1.20605469e-01, -3.67187500e-01,\n",
              "        -7.81250000e-02,  1.10839844e-01, -3.35937500e-01, -9.81445312e-02,\n",
              "        -7.47070312e-02, -1.89453125e-01,  7.81250000e-02, -2.53906250e-01,\n",
              "        -6.03027344e-02, -2.46093750e-01, -9.37500000e-02,  8.64257812e-02,\n",
              "         1.15722656e-01, -1.24511719e-01,  1.61132812e-01, -6.03027344e-02,\n",
              "        -2.47070312e-01, -9.52148438e-02, -4.05273438e-02,  2.51953125e-01,\n",
              "        -1.95312500e-01, -1.31835938e-01,  6.88476562e-02,  2.67333984e-02,\n",
              "         1.03027344e-01,  1.05957031e-01, -3.01513672e-02,  3.04687500e-01,\n",
              "        -8.74023438e-02,  1.19140625e-01, -1.74560547e-02,  8.78906250e-03,\n",
              "        -1.38671875e-01, -2.85156250e-01,  2.29492188e-01, -3.55468750e-01,\n",
              "         9.52148438e-03, -4.07714844e-02, -8.88671875e-02, -1.39160156e-02],\n",
              "       dtype=float32))"
            ]
          },
          "metadata": {},
          "execution_count": 9
        }
      ]
    },
    {
      "cell_type": "code",
      "metadata": {
        "colab": {
          "base_uri": "https://localhost:8080/"
        },
        "id": "9wNb8owWV9pL",
        "outputId": "c50cacc5-899a-4290-c6c5-0112006cb331"
      },
      "source": [
        "print(model)"
      ],
      "execution_count": null,
      "outputs": [
        {
          "output_type": "stream",
          "name": "stdout",
          "text": [
            "<gensim.models.keyedvectors.Word2VecKeyedVectors object at 0x7f0e7ec25250>\n"
          ]
        }
      ]
    },
    {
      "cell_type": "code",
      "metadata": {
        "id": "9GjyILAXS4Km",
        "colab": {
          "base_uri": "https://localhost:8080/"
        },
        "outputId": "a3256916-f6ef-4c91-80f9-d260e2ff98d3"
      },
      "source": [
        "t=model.most_similar(positive=['terpene'], negative= [], topn=5 )\n",
        "t"
      ],
      "execution_count": null,
      "outputs": [
        {
          "output_type": "execute_result",
          "data": {
            "text/plain": [
              "[('terpenes', 0.6838654279708862),\n",
              " ('monoterpenes', 0.6752954125404358),\n",
              " ('thymol', 0.6636612415313721),\n",
              " ('phosphite', 0.6630581617355347),\n",
              " ('limonene', 0.6613880395889282)]"
            ]
          },
          "metadata": {},
          "execution_count": 10
        }
      ]
    },
    {
      "cell_type": "code",
      "metadata": {
        "colab": {
          "base_uri": "https://localhost:8080/"
        },
        "id": "PpIEkui9eJUB",
        "outputId": "f920dc65-869b-4834-dbd8-11c2dcdac2e1"
      },
      "source": [
        "t[0][0]"
      ],
      "execution_count": null,
      "outputs": [
        {
          "output_type": "execute_result",
          "data": {
            "application/vnd.google.colaboratory.intrinsic+json": {
              "type": "string"
            },
            "text/plain": [
              "'smart'"
            ]
          },
          "metadata": {},
          "execution_count": 14
        }
      ]
    },
    {
      "cell_type": "code",
      "metadata": {
        "id": "2nRnIe1VsoL4"
      },
      "source": [
        ""
      ],
      "execution_count": null,
      "outputs": []
    },
    {
      "cell_type": "code",
      "metadata": {
        "colab": {
          "base_uri": "https://localhost:8080/"
        },
        "id": "48rfklrJsAly",
        "outputId": "49151c96-7675-4237-c7bd-a79a54bbffcd"
      },
      "source": [
        "t"
      ],
      "execution_count": null,
      "outputs": [
        {
          "output_type": "execute_result",
          "data": {
            "text/plain": [
              "[('smart', 0.6495277881622314),\n",
              " ('wheelchair_TAO', 0.6183764934539795),\n",
              " ('thoughtful', 0.5459740161895752),\n",
              " ('creationism_repackaged', 0.5402588844299316),\n",
              " ('perceptive', 0.5365097522735596)]"
            ]
          },
          "metadata": {},
          "execution_count": 15
        }
      ]
    },
    {
      "cell_type": "code",
      "metadata": {
        "colab": {
          "base_uri": "https://localhost:8080/"
        },
        "id": "CtmnDTppWBKv",
        "outputId": "e0b6a90f-32ad-4d7c-adc2-01a69361f131"
      },
      "source": [
        "words = list(model.wv.vocab)\n",
        "print(len(words))"
      ],
      "execution_count": null,
      "outputs": [
        {
          "output_type": "stream",
          "name": "stdout",
          "text": [
            "3000000\n"
          ]
        },
        {
          "output_type": "stream",
          "name": "stderr",
          "text": [
            "/usr/local/lib/python3.7/dist-packages/ipykernel_launcher.py:1: DeprecationWarning: Call to deprecated `wv` (Attribute will be removed in 4.0.0, use self instead).\n",
            "  \"\"\"Entry point for launching an IPython kernel.\n"
          ]
        }
      ]
    },
    {
      "cell_type": "code",
      "metadata": {
        "colab": {
          "base_uri": "https://localhost:8080/"
        },
        "id": "Q2tkyLYfqJK2",
        "outputId": "a6504d5e-61bf-430e-816a-7ae9dac0489c"
      },
      "source": [
        "uniqueWords = [] \n",
        "for i in noun__adj:\n",
        "      if not i in uniqueWords:\n",
        "          uniqueWords.append(i);\n",
        "len(uniqueWords)"
      ],
      "execution_count": null,
      "outputs": [
        {
          "output_type": "execute_result",
          "data": {
            "text/plain": [
              "112"
            ]
          },
          "metadata": {},
          "execution_count": 11
        }
      ]
    },
    {
      "cell_type": "code",
      "metadata": {
        "id": "LL6oYyDZr72j"
      },
      "source": [
        "list(uniqueWords)"
      ],
      "execution_count": null,
      "outputs": []
    },
    {
      "cell_type": "code",
      "metadata": {
        "id": "TBSADCSaV4lm"
      },
      "source": [
        "XX= model[uniqueWords]"
      ],
      "execution_count": null,
      "outputs": []
    },
    {
      "cell_type": "code",
      "metadata": {
        "id": "acVyLp_Rsr-Y"
      },
      "source": [
        ""
      ],
      "execution_count": null,
      "outputs": []
    },
    {
      "cell_type": "code",
      "metadata": {
        "colab": {
          "base_uri": "https://localhost:8080/"
        },
        "id": "iYkO1nswixqF",
        "outputId": "c6ba5e4f-9b53-4f10-ee79-03cccfc92c5d"
      },
      "source": [
        "XX.shape"
      ],
      "execution_count": null,
      "outputs": [
        {
          "output_type": "execute_result",
          "data": {
            "text/plain": [
              "(112, 300)"
            ]
          },
          "metadata": {},
          "execution_count": 14
        }
      ]
    },
    {
      "cell_type": "code",
      "metadata": {
        "id": "F4OBnM2k_Z-u"
      },
      "source": [
        "# dict1 = dict.fromkeys(uniqueWords,\"\")\n",
        "# dict1['ability']='heloo'\n",
        "# dict1"
      ],
      "execution_count": null,
      "outputs": []
    },
    {
      "cell_type": "markdown",
      "metadata": {
        "id": "AKUP9t06qTSK"
      },
      "source": [
        "#word2vec and custom clustering"
      ]
    },
    {
      "cell_type": "code",
      "metadata": {
        "colab": {
          "base_uri": "https://localhost:8080/"
        },
        "id": "81-EUHc58jJn",
        "outputId": "cf54150e-c597-4f72-f763-200efc76120a"
      },
      "source": [
        "# manual testing\n",
        "#new_sentences= ['I am sure about my relationship expectation. It is as stated in my profile.']\n",
        "dict1 = dict.fromkeys(uniqueWords, '')\n",
        "for j in range(len(uniqueWords)):\n",
        "    #new_sentences_embeddings =  embed(new_sentences).cpu().numpy()\n",
        "    import scipy \n",
        "    #cosine similarity\n",
        "    matrix_sim= np.zeros((112))\n",
        "    for i in range(112):\n",
        "      matrix_sim[i] = 1- scipy.spatial.distance.cosine(XX[i], XX[j])\n",
        "\n",
        "    matrix_sim[matrix_sim<0.5]=0\n",
        "    indices= np.nonzero(matrix_sim)\n",
        "    indices\n",
        "    list_sen = []\n",
        "    sen= uniqueWords\n",
        "    #print(sen)\n",
        "    for i in range(len(indices[0])):\n",
        "      #new=[]\n",
        "      new= sen[indices[0][i]]\n",
        "      \n",
        "      #new.append(matrix_sim[indices[0][i]])\n",
        "      list_sen.append(new)\n",
        "      \n",
        "    #list_sen\n",
        "\n",
        "    # def Sort(sub_li):\n",
        "    #     reverse = True\n",
        "    #     return(sorted(sub_li, key = lambda x: x[],reverse=True))    \n",
        "      \n",
        "    # sorted= Sort(list_sen)\n",
        "    #list_sen.remove(uniqueWords[j])\n",
        "    dict1[uniqueWords[j]]= list_sen\n",
        "\n",
        "\n",
        "\n",
        "dict1    "
      ],
      "execution_count": null,
      "outputs": [
        {
          "output_type": "execute_result",
          "data": {
            "text/plain": [
              "{'ability': ['able', 'willingness', 'ability'],\n",
              " 'able': ['able', 'ability'],\n",
              " 'achievement': ['achievement'],\n",
              " 'agreeable': ['agreeable'],\n",
              " 'appeal': ['appeal'],\n",
              " 'approachable': ['polite', 'approachable'],\n",
              " 'background': ['background'],\n",
              " 'basic': ['basic'],\n",
              " 'born': ['born'],\n",
              " 'bravery': ['dedication', 'selfless', 'kindness', 'bravery'],\n",
              " 'calm': ['calm'],\n",
              " 'capable': ['capable'],\n",
              " 'care': ['care'],\n",
              " 'character': ['character'],\n",
              " 'come': ['come'],\n",
              " 'commitment': ['dedication', 'commitment', 'willingness'],\n",
              " 'common': ['common'],\n",
              " 'compassion': ['honesty',\n",
              "  'empathy',\n",
              "  'selfless',\n",
              "  'kindness',\n",
              "  'compassion',\n",
              "  'humility'],\n",
              " 'compromise': ['compromise'],\n",
              " 'confident': ['confident', 'proud'],\n",
              " 'constitution': ['constitution'],\n",
              " 'country': ['country'],\n",
              " 'county': ['county'],\n",
              " 'course': ['course'],\n",
              " 'crucial': ['crucial'],\n",
              " 'decision': ['decision'],\n",
              " 'decisiveness': ['decisiveness', 'honesty', 'humility'],\n",
              " 'dedication': ['passion',\n",
              "  'teamwork',\n",
              "  'dedication',\n",
              "  'commitment',\n",
              "  'selfless',\n",
              "  'bravery'],\n",
              " 'deliberate': ['deliberate'],\n",
              " 'determination': ['determination', 'willingness'],\n",
              " 'different': ['different'],\n",
              " 'diplomacy': ['diplomacy'],\n",
              " 'eloquent': ['eloquent'],\n",
              " 'empathy': ['honesty', 'empathy', 'kindness', 'compassion', 'humility'],\n",
              " 'equality': ['inclusivity', 'equality'],\n",
              " 'experience': ['experience', 'knowledge'],\n",
              " 'genuine': ['genuine'],\n",
              " 'goal': ['goal'],\n",
              " 'good': ['good', 'wise', 'nice', 'strong'],\n",
              " 'group': ['group'],\n",
              " 'hard': ['hard'],\n",
              " 'honest': ['honesty', 'honest', 'trustworthy'],\n",
              " 'honesty': ['integrity',\n",
              "  'decisiveness',\n",
              "  'honesty',\n",
              "  'empathy',\n",
              "  'honest',\n",
              "  'trustworthiness',\n",
              "  'compassion',\n",
              "  'humility'],\n",
              " 'humble': ['humble', 'polite'],\n",
              " 'humility': ['decisiveness',\n",
              "  'honesty',\n",
              "  'empathy',\n",
              "  'kindness',\n",
              "  'compassion',\n",
              "  'humility'],\n",
              " 'idea': ['idea'],\n",
              " 'idiot': ['idiot'],\n",
              " 'inclusivity': ['inclusivity', 'equality'],\n",
              " 'integrity': ['integrity', 'honesty', 'trustworthiness'],\n",
              " 'intelligence': ['intelligence'],\n",
              " 'international': ['international'],\n",
              " 'join': ['join'],\n",
              " 'kindness': ['empathy',\n",
              "  'selfless',\n",
              "  'kindness',\n",
              "  'compassion',\n",
              "  'bravery',\n",
              "  'humility'],\n",
              " 'knowledge': ['understanding', 'experience', 'knowledge'],\n",
              " 'leader': ['leader', 'leadership'],\n",
              " 'leadership': ['leader', 'leadership'],\n",
              " 'level': ['level'],\n",
              " 'levelheadedness': ['levelheadedness'],\n",
              " 'logical': ['logical'],\n",
              " 'long': ['long'],\n",
              " 'lot': ['lot'],\n",
              " 'management': ['management'],\n",
              " 'mature': ['mature'],\n",
              " 'morality': ['morality'],\n",
              " 'motif': ['motif'],\n",
              " 'negotiator': ['negotiator'],\n",
              " 'nice': ['good', 'nice'],\n",
              " 'office': ['office'],\n",
              " 'others': ['people', 'others'],\n",
              " 'passion': ['passion', 'dedication'],\n",
              " 'peaceful': ['peaceful'],\n",
              " 'people': ['people', 'others'],\n",
              " 'polite': ['humble', 'polite', 'approachable'],\n",
              " 'political': ['politics', 'political'],\n",
              " 'politics': ['politics', 'political'],\n",
              " 'prejudice': ['prejudice'],\n",
              " 'president': ['president'],\n",
              " 'problem': ['problem'],\n",
              " 'progressive': ['progressive'],\n",
              " 'promise': ['promise'],\n",
              " 'proud': ['confident', 'proud'],\n",
              " 'qualified': ['qualified'],\n",
              " 'quality': ['quality'],\n",
              " 'relation': ['relation'],\n",
              " 'run': ['run'],\n",
              " 'selfless': ['dedication', 'selfless', 'kindness', 'compassion', 'bravery'],\n",
              " 'sense': ['sense'],\n",
              " 'situation': ['situation'],\n",
              " 'skill': ['teamwork', 'skill'],\n",
              " 'smart': ['smart'],\n",
              " 'sociology': ['sociology'],\n",
              " 'someone': ['someone'],\n",
              " 'sophisticated': ['sophisticated'],\n",
              " 'stressful': ['stressful'],\n",
              " 'strong': ['good', 'strong'],\n",
              " 'sure': ['sure'],\n",
              " 'system': ['system'],\n",
              " 'teamwork': ['teamwork', 'dedication', 'skill'],\n",
              " 'term': ['term'],\n",
              " 'time': ['time'],\n",
              " 'trustworthiness': ['integrity', 'honesty', 'trustworthiness', 'trustworthy'],\n",
              " 'trustworthy': ['honest', 'trustworthiness', 'trustworthy'],\n",
              " 'ulterior': ['ulterior'],\n",
              " 'umm': ['umm'],\n",
              " 'underprivileged': ['underprivileged'],\n",
              " 'understanding': ['understanding', 'knowledge'],\n",
              " 'unity': ['unity'],\n",
              " 'vast': ['vast'],\n",
              " 'whole': ['whole'],\n",
              " 'willingness': ['determination', 'commitment', 'willingness', 'ability'],\n",
              " 'wise': ['good', 'wise'],\n",
              " 'work': ['work']}"
            ]
          },
          "metadata": {},
          "execution_count": 21
        }
      ]
    },
    {
      "cell_type": "code",
      "metadata": {
        "colab": {
          "base_uri": "https://localhost:8080/"
        },
        "id": "mYpgR8G1kfd1",
        "outputId": "61cd3bb1-90e5-428e-f232-c41502c42af1"
      },
      "source": [
        "clusters = []\n",
        "wordsInCluster = []\n",
        "synonyms = dict1 \n",
        "for word1 in synonyms:\n",
        "    #print(word1)\n",
        "    noSynonym = 1\n",
        "    for word2 in synonyms:\n",
        "        if word1 != word2:\n",
        "            # If the two words are synonyms\n",
        "            #print(set(synonyms[word1]).intersection(set(synonyms[word2])))\n",
        "            if set(synonyms[word1]).intersection(set(synonyms[word2])) != set():\n",
        "                noSynonym = 0\n",
        "                if word1 in wordsInCluster and word2 in wordsInCluster:\n",
        "                    pass\n",
        "                elif word1 in wordsInCluster:\n",
        "                    for cluster in clusters:\n",
        "                        if word1 in cluster:\n",
        "                            cluster.append(word2)\n",
        "                            wordsInCluster.append(word2)\n",
        "                elif word2 in wordsInCluster:\n",
        "                    for cluster in clusters:\n",
        "                        if word2 in cluster:\n",
        "                            cluster.append(word1)\n",
        "                            wordsInCluster.append(word1)\n",
        "                else:\n",
        "                    clusters.append([word1,word2])\n",
        "                    wordsInCluster.append(word1)\n",
        "                    wordsInCluster.append(word2)\n",
        "\n",
        "    if noSynonym == 1:\n",
        "        clusters.append([word1])\n",
        "        wordsInCluster.append(word1)\n",
        "\n",
        "print(clusters)"
      ],
      "execution_count": null,
      "outputs": [
        {
          "output_type": "stream",
          "name": "stdout",
          "text": [
            "[['intelligence'], ['integrity', 'decisiveness', 'honesty', 'empathy', 'honest', 'trustworthiness', 'compassion', 'trustworthy', 'humility', 'kindness', 'selfless'], ['passion', 'teamwork', 'dedication', 'commitment', 'bravery', 'determination', 'willingness', 'ability', 'skill', 'able'], ['qualified'], ['good', 'wise', 'nice', 'strong'], ['work'], ['understanding', 'experience', 'knowledge'], ['system'], ['progressive'], ['common'], ['sense'], ['sure'], ['lot'], ['quality'], ['president'], ['country'], ['confident', 'proud'], ['eloquent'], ['logical'], ['humble', 'polite', 'approachable'], ['smart'], ['negotiator'], ['appeal'], ['whole'], ['county'], ['character'], ['course'], ['leader', 'leadership'], ['someone'], ['run'], ['capable'], ['crucial'], ['decision'], ['time'], ['come'], ['management'], ['goal'], ['achievement'], ['long'], ['term'], ['levelheadedness'], ['people', 'others'], ['inclusivity', 'equality'], ['promise'], ['idiot'], ['peaceful'], ['calm'], ['deliberate'], ['background'], ['politics', 'political'], ['born'], ['agreeable'], ['compromise'], ['level'], ['sophisticated'], ['mature'], ['idea'], ['unity'], ['prejudice'], ['umm'], ['morality'], ['problem'], ['genuine'], ['care'], ['hard'], ['office'], ['different'], ['group'], ['ulterior'], ['motif'], ['stressful'], ['situation'], ['international'], ['relation'], ['constitution'], ['underprivileged'], ['join'], ['basic'], ['sociology'], ['diplomacy'], ['vast']]\n"
          ]
        }
      ]
    },
    {
      "cell_type": "code",
      "metadata": {
        "colab": {
          "base_uri": "https://localhost:8080/"
        },
        "id": "KEmqjQbZlY9_",
        "outputId": "572b4a8e-43d5-4680-ff22-56e3e0a8ba4b"
      },
      "source": [
        "for cluster in clusters:\n",
        "    if len(cluster)>=2:\n",
        "      print(cluster)"
      ],
      "execution_count": null,
      "outputs": [
        {
          "output_type": "stream",
          "name": "stdout",
          "text": [
            "['integrity', 'decisiveness', 'honesty', 'empathy', 'honest', 'trustworthiness', 'compassion', 'trustworthy', 'humility', 'kindness', 'selfless']\n",
            "['passion', 'teamwork', 'dedication', 'commitment', 'bravery', 'determination', 'willingness', 'ability', 'skill', 'able']\n",
            "['good', 'wise', 'nice', 'strong']\n",
            "['understanding', 'experience', 'knowledge']\n",
            "['confident', 'proud']\n",
            "['humble', 'polite', 'approachable']\n",
            "['leader', 'leadership']\n",
            "['people', 'others']\n",
            "['inclusivity', 'equality']\n",
            "['politics', 'political']\n"
          ]
        }
      ]
    },
    {
      "cell_type": "code",
      "metadata": {
        "colab": {
          "base_uri": "https://localhost:8080/"
        },
        "id": "_atRzGhnmjey",
        "outputId": "fd8d16a4-d0d6-4175-d1ab-44db0ae9ece0"
      },
      "source": [
        "len(clusters)"
      ],
      "execution_count": null,
      "outputs": [
        {
          "output_type": "execute_result",
          "data": {
            "text/plain": [
              "81"
            ]
          },
          "metadata": {},
          "execution_count": 24
        }
      ]
    },
    {
      "cell_type": "markdown",
      "metadata": {
        "id": "wCBm-95Pn52z"
      },
      "source": [
        "# word2vec+wordnet+ custom clustering\n",
        "\n"
      ]
    },
    {
      "cell_type": "code",
      "metadata": {
        "colab": {
          "base_uri": "https://localhost:8080/"
        },
        "id": "VfEHPFBhoEA0",
        "outputId": "990ab381-6698-428a-8ab7-5802bff093c0"
      },
      "source": [
        "# manual testing\n",
        "#new_sentences= ['I am sure about my relationship expectation. It is as stated in my profile.']\n",
        "dict1 = dict.fromkeys(uniqueWords, '')\n",
        "for j in range(len(uniqueWords)):\n",
        "    #new_sentences_embeddings =  embed(new_sentences).cpu().numpy()\n",
        "    import scipy \n",
        "    #cosine similarity\n",
        "    matrix_sim= np.zeros((112))\n",
        "    for i in range(112):\n",
        "      matrix_sim[i] = 1- scipy.spatial.distance.cosine(XX[i], XX[j])\n",
        "\n",
        "    matrix_sim[matrix_sim<0.5]=0\n",
        "    indices= np.nonzero(matrix_sim)\n",
        "    indices\n",
        "    list_sen = []\n",
        "    sen= uniqueWords\n",
        "    #print(sen)\n",
        "    for i in range(len(indices[0])):\n",
        "      #new=[]\n",
        "      new= sen[indices[0][i]]\n",
        "      \n",
        "      #new.append(matrix_sim[indices[0][i]])\n",
        "      list_sen.append(new)\n",
        "      \n",
        "    synonyms = []\n",
        "    for syn in wordnet.synsets(uniqueWords[j]):\n",
        "      for l in syn.lemmas():\n",
        "          synonyms.append(l.name())\n",
        "    #print(synonyms)\n",
        "\n",
        "    if len(synonyms)>5 :\n",
        "      for i in range(5):\n",
        "        list_sen.append(synonyms[i].lower())\n",
        "    else:\n",
        "      for i in range(len(synonyms)):\n",
        "        list_sen.append(synonyms[i].lower())\n",
        "    \n",
        "    \n",
        "    #list_sen\n",
        "\n",
        "    # def Sort(sub_li):\n",
        "    #     reverse = True\n",
        "    #     return(sorted(sub_li, key = lambda x: x[],reverse=True))    \n",
        "      \n",
        "    # sorted= Sort(list_sen)\n",
        "    #list_sen.remove(uniqueWords[j])\n",
        "    dict1[uniqueWords[j]]= list_sen\n",
        "\n",
        "\n",
        "\n",
        "dict1    "
      ],
      "execution_count": null,
      "outputs": [
        {
          "output_type": "execute_result",
          "data": {
            "text/plain": [
              "{'ability': ['able', 'willingness', 'ability', 'ability', 'ability', 'power'],\n",
              " 'able': ['able', 'ability', 'able', 'able', 'capable', 'able', 'able'],\n",
              " 'achievement': ['achievement', 'accomplishment', 'achievement'],\n",
              " 'agreeable': ['agreeable',\n",
              "  'agreeable',\n",
              "  'accordant',\n",
              "  'agreeable',\n",
              "  'conformable',\n",
              "  'consonant'],\n",
              " 'appeal': ['appeal',\n",
              "  'entreaty',\n",
              "  'prayer',\n",
              "  'appeal',\n",
              "  'appeal',\n",
              "  'appealingness'],\n",
              " 'approachable': ['polite',\n",
              "  'approachable',\n",
              "  'accessible',\n",
              "  'approachable',\n",
              "  'approachable',\n",
              "  'approachable',\n",
              "  'reachable'],\n",
              " 'background': ['background',\n",
              "  'background',\n",
              "  'background',\n",
              "  'ground',\n",
              "  'background',\n",
              "  'background_knowledge'],\n",
              " 'basic': ['basic', 'basic', 'basic', 'staple', 'basic', 'basic'],\n",
              " 'born': ['born', 'born', 'max_born', 'bear', 'give_birth', 'deliver'],\n",
              " 'bravery': ['dedication',\n",
              "  'selfless',\n",
              "  'kindness',\n",
              "  'bravery',\n",
              "  'courage',\n",
              "  'courageousness',\n",
              "  'bravery',\n",
              "  'braveness',\n",
              "  'fearlessness'],\n",
              " 'calm': ['calm', 'composure', 'calm', 'calmness', 'equanimity', 'calm_air'],\n",
              " 'capable': ['capable', 'capable', 'capable', 'open', 'subject', 'capable'],\n",
              " 'care': ['care', 'care', 'attention', 'aid', 'tending', 'caution'],\n",
              " 'character': ['character',\n",
              "  'fictional_character',\n",
              "  'fictitious_character',\n",
              "  'character',\n",
              "  'quality',\n",
              "  'character'],\n",
              " 'come': ['come', 'semen', 'seed', 'seminal_fluid', 'ejaculate', 'cum'],\n",
              " 'commitment': ['dedication',\n",
              "  'commitment',\n",
              "  'willingness',\n",
              "  'committedness',\n",
              "  'commitment',\n",
              "  'commitment',\n",
              "  'allegiance',\n",
              "  'loyalty'],\n",
              " 'common': ['common', 'park', 'commons', 'common', 'green', 'common'],\n",
              " 'compassion': ['honesty',\n",
              "  'empathy',\n",
              "  'selfless',\n",
              "  'kindness',\n",
              "  'compassion',\n",
              "  'humility',\n",
              "  'compassion',\n",
              "  'compassionateness',\n",
              "  'compassion',\n",
              "  'pity'],\n",
              " 'compromise': ['compromise',\n",
              "  'compromise',\n",
              "  'via_media',\n",
              "  'compromise',\n",
              "  'compromise',\n",
              "  'compromise'],\n",
              " 'confident': ['confident',\n",
              "  'proud',\n",
              "  'confident',\n",
              "  'convinced',\n",
              "  'positive',\n",
              "  'confident',\n",
              "  'confident'],\n",
              " 'constitution': ['constitution',\n",
              "  'fundamental_law',\n",
              "  'organic_law',\n",
              "  'constitution',\n",
              "  'constitution',\n",
              "  'establishment'],\n",
              " 'country': ['country', 'state', 'nation', 'country', 'land', 'commonwealth'],\n",
              " 'county': ['county', 'county', 'county'],\n",
              " 'course': ['course',\n",
              "  'course',\n",
              "  'course_of_study',\n",
              "  'course_of_instruction',\n",
              "  'class',\n",
              "  'course'],\n",
              " 'crucial': ['crucial',\n",
              "  'crucial',\n",
              "  'important',\n",
              "  'crucial',\n",
              "  'all-important',\n",
              "  'all_important'],\n",
              " 'decision': ['decision',\n",
              "  'decision',\n",
              "  'determination',\n",
              "  'conclusion',\n",
              "  'decision',\n",
              "  'determination'],\n",
              " 'decisiveness': ['decisiveness',\n",
              "  'honesty',\n",
              "  'humility',\n",
              "  'decisiveness',\n",
              "  'decision',\n",
              "  'finality',\n",
              "  'conclusiveness',\n",
              "  'decisiveness'],\n",
              " 'dedication': ['passion',\n",
              "  'teamwork',\n",
              "  'dedication',\n",
              "  'commitment',\n",
              "  'selfless',\n",
              "  'bravery',\n",
              "  'dedication',\n",
              "  'dedication',\n",
              "  'commitment',\n",
              "  'dedication',\n",
              "  'dedication'],\n",
              " 'deliberate': ['deliberate',\n",
              "  'consider',\n",
              "  'debate',\n",
              "  'moot',\n",
              "  'turn_over',\n",
              "  'deliberate'],\n",
              " 'determination': ['determination',\n",
              "  'willingness',\n",
              "  'determination',\n",
              "  'finding',\n",
              "  'determination',\n",
              "  'purpose',\n",
              "  'decision'],\n",
              " 'different': ['different',\n",
              "  'different',\n",
              "  'different',\n",
              "  'different',\n",
              "  'unlike',\n",
              "  'dissimilar'],\n",
              " 'diplomacy': ['diplomacy',\n",
              "  'diplomacy',\n",
              "  'diplomatic_negotiations',\n",
              "  'delicacy',\n",
              "  'diplomacy',\n",
              "  'discreetness'],\n",
              " 'eloquent': ['eloquent',\n",
              "  'eloquent',\n",
              "  'facile',\n",
              "  'fluent',\n",
              "  'silver',\n",
              "  'silver-tongued'],\n",
              " 'empathy': ['honesty',\n",
              "  'empathy',\n",
              "  'kindness',\n",
              "  'compassion',\n",
              "  'humility',\n",
              "  'empathy'],\n",
              " 'equality': ['inclusivity',\n",
              "  'equality',\n",
              "  'equality',\n",
              "  'equality',\n",
              "  'equivalence',\n",
              "  'equation',\n",
              "  'par'],\n",
              " 'experience': ['experience',\n",
              "  'knowledge',\n",
              "  'experience',\n",
              "  'experience',\n",
              "  'experience',\n",
              "  'experience',\n",
              "  'see'],\n",
              " 'genuine': ['genuine', 'genuine', 'echt', 'genuine', 'true', 'unfeigned'],\n",
              " 'goal': ['goal', 'goal', 'end', 'finish', 'destination', 'goal'],\n",
              " 'good': ['good',\n",
              "  'wise',\n",
              "  'nice',\n",
              "  'strong',\n",
              "  'good',\n",
              "  'good',\n",
              "  'goodness',\n",
              "  'good',\n",
              "  'goodness'],\n",
              " 'group': ['group', 'group', 'grouping', 'group', 'radical', 'chemical_group'],\n",
              " 'hard': ['hard', 'difficult', 'hard', 'hard', 'hard', 'hard'],\n",
              " 'honest': ['honesty',\n",
              "  'honest',\n",
              "  'trustworthy',\n",
              "  'honest',\n",
              "  'honorable',\n",
              "  'honest',\n",
              "  'dependable',\n",
              "  'honest'],\n",
              " 'honesty': ['integrity',\n",
              "  'decisiveness',\n",
              "  'honesty',\n",
              "  'empathy',\n",
              "  'honest',\n",
              "  'trustworthiness',\n",
              "  'compassion',\n",
              "  'humility',\n",
              "  'honesty',\n",
              "  'honestness',\n",
              "  'honesty',\n",
              "  'silver_dollar',\n",
              "  'money_plant'],\n",
              " 'humble': ['humble',\n",
              "  'polite',\n",
              "  'humble',\n",
              "  'humiliate',\n",
              "  'mortify',\n",
              "  'chagrin',\n",
              "  'humble'],\n",
              " 'humility': ['decisiveness',\n",
              "  'honesty',\n",
              "  'empathy',\n",
              "  'kindness',\n",
              "  'compassion',\n",
              "  'humility',\n",
              "  'humility',\n",
              "  'humbleness',\n",
              "  'humility',\n",
              "  'humbleness'],\n",
              " 'idea': ['idea', 'idea', 'thought', 'mind', 'idea', 'idea'],\n",
              " 'idiot': ['idiot', 'idiot', 'imbecile', 'cretin', 'moron', 'changeling'],\n",
              " 'inclusivity': ['inclusivity', 'equality'],\n",
              " 'integrity': ['integrity',\n",
              "  'honesty',\n",
              "  'trustworthiness',\n",
              "  'integrity',\n",
              "  'unity',\n",
              "  'wholeness',\n",
              "  'integrity'],\n",
              " 'intelligence': ['intelligence',\n",
              "  'intelligence',\n",
              "  'intelligence',\n",
              "  'intelligence_service',\n",
              "  'intelligence_agency',\n",
              "  'intelligence'],\n",
              " 'international': ['international',\n",
              "  'international',\n",
              "  'international',\n",
              "  'external',\n",
              "  'international',\n",
              "  'outside'],\n",
              " 'join': ['join', 'articulation', 'join', 'joint', 'juncture', 'junction'],\n",
              " 'kindness': ['empathy',\n",
              "  'selfless',\n",
              "  'kindness',\n",
              "  'compassion',\n",
              "  'bravery',\n",
              "  'humility',\n",
              "  'kindness',\n",
              "  'forgivingness',\n",
              "  'kindness',\n",
              "  'kindness',\n",
              "  'benignity'],\n",
              " 'knowledge': ['understanding',\n",
              "  'experience',\n",
              "  'knowledge',\n",
              "  'cognition',\n",
              "  'knowledge',\n",
              "  'noesis'],\n",
              " 'leader': ['leader',\n",
              "  'leadership',\n",
              "  'leader',\n",
              "  'drawing_card',\n",
              "  'loss_leader',\n",
              "  'leader'],\n",
              " 'leadership': ['leader',\n",
              "  'leadership',\n",
              "  'leadership',\n",
              "  'leading',\n",
              "  'leadership',\n",
              "  'leaders',\n",
              "  'leadership'],\n",
              " 'level': ['level', 'degree', 'grade', 'level', 'grade', 'level'],\n",
              " 'levelheadedness': ['levelheadedness'],\n",
              " 'logical': ['logical',\n",
              "  'logical',\n",
              "  'legitimate',\n",
              "  'logical',\n",
              "  'coherent',\n",
              "  'consistent'],\n",
              " 'long': ['long', 'hanker', 'long', 'yearn', 'long', 'long'],\n",
              " 'lot': ['lot', 'batch', 'deal', 'flock', 'good_deal', 'great_deal'],\n",
              " 'management': ['management', 'management', 'direction', 'management'],\n",
              " 'mature': ['mature', 'mature', 'maturate', 'grow', 'mature', 'mature'],\n",
              " 'morality': ['morality',\n",
              "  'morality',\n",
              "  'ethical_motive',\n",
              "  'ethics',\n",
              "  'morals',\n",
              "  'morality'],\n",
              " 'motif': ['motif', 'motif', 'motive', 'motif', 'motive', 'theme'],\n",
              " 'negotiator': ['negotiator', 'negotiator', 'negotiant', 'treater'],\n",
              " 'nice': ['good', 'nice', 'nice', 'nice', 'decent', 'nice', 'nice'],\n",
              " 'office': ['office',\n",
              "  'office',\n",
              "  'business_office',\n",
              "  'agency',\n",
              "  'federal_agency',\n",
              "  'government_agency'],\n",
              " 'others': ['people', 'others'],\n",
              " 'passion': ['passion',\n",
              "  'dedication',\n",
              "  'passion',\n",
              "  'passionateness',\n",
              "  'heat',\n",
              "  'warmth',\n",
              "  'passion'],\n",
              " 'peaceful': ['peaceful', 'peaceful', 'peaceable', 'passive', 'peaceful'],\n",
              " 'people': ['people',\n",
              "  'others',\n",
              "  'people',\n",
              "  'citizenry',\n",
              "  'people',\n",
              "  'people',\n",
              "  'multitude'],\n",
              " 'polite': ['humble',\n",
              "  'polite',\n",
              "  'approachable',\n",
              "  'polite',\n",
              "  'civilized',\n",
              "  'civilised',\n",
              "  'cultivated',\n",
              "  'cultured'],\n",
              " 'political': ['politics', 'political', 'political', 'political', 'political'],\n",
              " 'politics': ['politics',\n",
              "  'political',\n",
              "  'politics',\n",
              "  'political_relation',\n",
              "  'politics',\n",
              "  'political_science',\n",
              "  'government'],\n",
              " 'prejudice': ['prejudice',\n",
              "  'bias',\n",
              "  'prejudice',\n",
              "  'preconception',\n",
              "  'prejudice',\n",
              "  'prejudice'],\n",
              " 'president': ['president',\n",
              "  'president',\n",
              "  'president_of_the_united_states',\n",
              "  'united_states_president',\n",
              "  'president',\n",
              "  'chief_executive'],\n",
              " 'problem': ['problem', 'problem', 'job', 'problem', 'trouble', 'problem'],\n",
              " 'progressive': ['progressive',\n",
              "  'progressive',\n",
              "  'progressive_tense',\n",
              "  'imperfect',\n",
              "  'imperfect_tense',\n",
              "  'continuous_tense'],\n",
              " 'promise': ['promise', 'promise', 'promise', 'hope', 'promise', 'assure'],\n",
              " 'proud': ['confident',\n",
              "  'proud',\n",
              "  'proud',\n",
              "  'gallant',\n",
              "  'lofty',\n",
              "  'majestic',\n",
              "  'proud'],\n",
              " 'qualified': ['qualified',\n",
              "  'qualify',\n",
              "  'measure_up',\n",
              "  'qualify',\n",
              "  'qualify',\n",
              "  'restrict'],\n",
              " 'quality': ['quality', 'quality', 'quality', 'caliber', 'calibre', 'quality'],\n",
              " 'relation': ['relation',\n",
              "  'relation',\n",
              "  'sexual_intercourse',\n",
              "  'intercourse',\n",
              "  'sex_act',\n",
              "  'copulation'],\n",
              " 'run': ['run', 'run', 'tally', 'test', 'trial', 'run'],\n",
              " 'selfless': ['dedication',\n",
              "  'selfless',\n",
              "  'kindness',\n",
              "  'compassion',\n",
              "  'bravery',\n",
              "  'altruistic',\n",
              "  'selfless'],\n",
              " 'sense': ['sense', 'sense', 'sense', 'signified', 'sense', 'sensation'],\n",
              " 'situation': ['situation',\n",
              "  'situation',\n",
              "  'state_of_affairs',\n",
              "  'situation',\n",
              "  'position',\n",
              "  'situation'],\n",
              " 'skill': ['teamwork',\n",
              "  'skill',\n",
              "  'skill',\n",
              "  'accomplishment',\n",
              "  'acquirement',\n",
              "  'acquisition',\n",
              "  'attainment'],\n",
              " 'smart': ['smart', 'smart', 'smarting', 'smartness', 'ache', 'smart'],\n",
              " 'sociology': ['sociology', 'sociology'],\n",
              " 'someone': ['someone',\n",
              "  'person',\n",
              "  'individual',\n",
              "  'someone',\n",
              "  'somebody',\n",
              "  'mortal'],\n",
              " 'sophisticated': ['sophisticated',\n",
              "  'sophisticate',\n",
              "  'twist',\n",
              "  'twist_around',\n",
              "  'pervert',\n",
              "  'convolute'],\n",
              " 'stressful': ['stressful',\n",
              "  'nerve-racking',\n",
              "  'nerve-wracking',\n",
              "  'stressful',\n",
              "  'trying'],\n",
              " 'strong': ['good',\n",
              "  'strong',\n",
              "  'strong',\n",
              "  'strong',\n",
              "  'potent',\n",
              "  'strong',\n",
              "  'potent'],\n",
              " 'sure': ['sure', 'certain', 'sure', 'certain', 'sure', 'certain'],\n",
              " 'system': ['system', 'system', 'system', 'scheme', 'system', 'system'],\n",
              " 'teamwork': ['teamwork', 'dedication', 'skill', 'teamwork'],\n",
              " 'term': ['term', 'term', 'term', 'condition', 'term', 'term'],\n",
              " 'time': ['time', 'time', 'clip', 'time', 'time', 'time'],\n",
              " 'trustworthiness': ['integrity',\n",
              "  'honesty',\n",
              "  'trustworthiness',\n",
              "  'trustworthy',\n",
              "  'trustworthiness',\n",
              "  'trustiness'],\n",
              " 'trustworthy': ['honest',\n",
              "  'trustworthiness',\n",
              "  'trustworthy',\n",
              "  'trustworthy',\n",
              "  'trusty',\n",
              "  'trustworthy'],\n",
              " 'ulterior': ['ulterior',\n",
              "  'subterranean',\n",
              "  'subterraneous',\n",
              "  'ulterior',\n",
              "  'ulterior',\n",
              "  'later'],\n",
              " 'umm': ['umm'],\n",
              " 'underprivileged': ['underprivileged', 'underprivileged'],\n",
              " 'understanding': ['understanding',\n",
              "  'knowledge',\n",
              "  'understanding',\n",
              "  'apprehension',\n",
              "  'discernment',\n",
              "  'savvy',\n",
              "  'agreement'],\n",
              " 'unity': ['unity', 'integrity', 'unity', 'wholeness', 'one', '1'],\n",
              " 'vast': ['vast', 'huge', 'immense', 'vast', 'brobdingnagian'],\n",
              " 'whole': ['whole', 'whole', 'whole', 'unit', 'whole', 'whole'],\n",
              " 'willingness': ['determination',\n",
              "  'commitment',\n",
              "  'willingness',\n",
              "  'ability',\n",
              "  'willingness'],\n",
              " 'wise': ['good',\n",
              "  'wise',\n",
              "  'wise',\n",
              "  'wise',\n",
              "  'stephen_samuel_wise',\n",
              "  'wise',\n",
              "  'isaac_mayer_wise'],\n",
              " 'work': ['work', 'work', 'work', 'piece_of_work', 'employment', 'work']}"
            ]
          },
          "metadata": {},
          "execution_count": 22
        }
      ]
    },
    {
      "cell_type": "code",
      "metadata": {
        "colab": {
          "base_uri": "https://localhost:8080/"
        },
        "id": "F-IT6otUoHrC",
        "outputId": "e40a34af-9ca9-435e-c317-e9a3c6a2ca57"
      },
      "source": [
        "clusters = []\n",
        "wordsInCluster = []\n",
        "synonyms = dict1 \n",
        "for word1 in synonyms:\n",
        "    #print(word1)\n",
        "    noSynonym = 1\n",
        "    for word2 in synonyms:\n",
        "        if word1 != word2:\n",
        "            # If the two words are synonyms\n",
        "            #print(set(synonyms[word1]).intersection(set(synonyms[word2])))\n",
        "            if set(synonyms[word1]).intersection(set(synonyms[word2])) != set():\n",
        "                noSynonym = 0\n",
        "                if word1 in wordsInCluster and word2 in wordsInCluster:\n",
        "                    pass\n",
        "                elif word1 in wordsInCluster:\n",
        "                    for cluster in clusters:\n",
        "                        if word1 in cluster:\n",
        "                            cluster.append(word2)\n",
        "                            wordsInCluster.append(word2)\n",
        "                elif word2 in wordsInCluster:\n",
        "                    for cluster in clusters:\n",
        "                        if word2 in cluster:\n",
        "                            cluster.append(word1)\n",
        "                            wordsInCluster.append(word1)\n",
        "                else:\n",
        "                    clusters.append([word1,word2])\n",
        "                    wordsInCluster.append(word1)\n",
        "                    wordsInCluster.append(word2)\n",
        "\n",
        "    if noSynonym == 1:\n",
        "        clusters.append([word1])\n",
        "        wordsInCluster.append(word1)\n",
        "\n",
        "print(clusters)"
      ],
      "execution_count": null,
      "outputs": [
        {
          "output_type": "stream",
          "name": "stdout",
          "text": [
            "[['intelligence'], ['integrity', 'decisiveness', 'honesty', 'empathy', 'honest', 'unity', 'trustworthiness', 'compassion', 'trustworthy', 'humility', 'determination', 'decision', 'kindness', 'selfless', 'willingness', 'ability'], ['passion', 'teamwork', 'dedication', 'commitment', 'bravery', 'skill', 'achievement'], ['qualified'], ['good', 'wise', 'nice', 'strong'], ['work'], ['understanding', 'experience', 'knowledge'], ['system'], ['progressive'], ['common'], ['sense'], ['sure'], ['lot'], ['quality', 'character'], ['president'], ['country'], ['confident', 'proud'], ['eloquent'], ['logical'], ['humble', 'polite', 'approachable'], ['smart'], ['negotiator'], ['appeal'], ['whole'], ['county'], ['course'], ['leader', 'leadership'], ['someone'], ['run'], ['capable', 'able'], ['crucial'], ['time'], ['come'], ['management'], ['goal'], ['long'], ['term'], ['levelheadedness'], ['people', 'others'], ['inclusivity', 'equality'], ['promise'], ['idiot'], ['peaceful'], ['calm'], ['deliberate'], ['background'], ['politics', 'political'], ['born'], ['agreeable'], ['compromise'], ['level'], ['sophisticated'], ['mature'], ['idea'], ['prejudice'], ['umm'], ['morality'], ['problem'], ['genuine'], ['care'], ['hard'], ['office'], ['different'], ['group'], ['ulterior'], ['motif'], ['stressful'], ['situation'], ['international'], ['relation'], ['constitution'], ['underprivileged'], ['join'], ['basic'], ['sociology'], ['diplomacy'], ['vast']]\n"
          ]
        }
      ]
    },
    {
      "cell_type": "code",
      "metadata": {
        "colab": {
          "base_uri": "https://localhost:8080/"
        },
        "id": "O9ZIQSjqpwiV",
        "outputId": "d7e3b2b2-2b43-4308-f3b8-5b79e5cae529"
      },
      "source": [
        "for cluster in clusters:\n",
        "    if len(cluster)>=2:\n",
        "      print(cluster)"
      ],
      "execution_count": null,
      "outputs": [
        {
          "output_type": "stream",
          "name": "stdout",
          "text": [
            "['integrity', 'decisiveness', 'honesty', 'empathy', 'honest', 'unity', 'trustworthiness', 'compassion', 'trustworthy', 'humility', 'determination', 'decision', 'kindness', 'selfless', 'willingness', 'ability']\n",
            "['passion', 'teamwork', 'dedication', 'commitment', 'bravery', 'skill', 'achievement']\n",
            "['good', 'wise', 'nice', 'strong']\n",
            "['understanding', 'experience', 'knowledge']\n",
            "['quality', 'character']\n",
            "['confident', 'proud']\n",
            "['humble', 'polite', 'approachable']\n",
            "['leader', 'leadership']\n",
            "['capable', 'able']\n",
            "['people', 'others']\n",
            "['inclusivity', 'equality']\n",
            "['politics', 'political']\n"
          ]
        }
      ]
    },
    {
      "cell_type": "code",
      "metadata": {
        "colab": {
          "base_uri": "https://localhost:8080/"
        },
        "id": "DSeViKsApv9w",
        "outputId": "c6e609f9-2d5d-47aa-bd5b-a144f34dea30"
      },
      "source": [
        "len(clusters)"
      ],
      "execution_count": null,
      "outputs": [
        {
          "output_type": "execute_result",
          "data": {
            "text/plain": [
              "77"
            ]
          },
          "metadata": {},
          "execution_count": 18
        }
      ]
    },
    {
      "cell_type": "markdown",
      "metadata": {
        "id": "zFXbVbiQJtYb"
      },
      "source": [
        "#cluster"
      ]
    },
    {
      "cell_type": "code",
      "metadata": {
        "id": "3jqEzdA_JruS"
      },
      "source": [
        "#cluster"
      ],
      "execution_count": null,
      "outputs": []
    },
    {
      "cell_type": "markdown",
      "metadata": {
        "id": "LdjUcjOvq-fF"
      },
      "source": [
        "# word2 vec + k means clustering"
      ]
    },
    {
      "cell_type": "code",
      "metadata": {
        "colab": {
          "base_uri": "https://localhost:8080/"
        },
        "id": "kmwFnjGjfHp-",
        "outputId": "6188678f-87f2-42d8-88d3-d1d6296f5902"
      },
      "source": [
        "\n",
        "from nltk.cluster import KMeansClusterer\n",
        "import nltk\n",
        "NUM_CLUSTERS=81\n",
        "kclusterer = KMeansClusterer(NUM_CLUSTERS, distance=nltk.cluster.util.cosine_distance, repeats=25)\n",
        "assigned_clusters = kclusterer.cluster(XX, assign_clusters=True)\n",
        "print(assigned_clusters)\n",
        "# output: [0, 2, 1, 2, 2, 1, 2, 2, 0, 1, 0, 1, 2, 1, 2]"
      ],
      "execution_count": null,
      "outputs": [
        {
          "output_type": "stream",
          "name": "stdout",
          "text": [
            "[44, 18, 66, 27, 25, 29, 1, 2, 65, 49, 11, 10, 55, 22, 64, 14, 28, 18, 78, 36, 59, 60, 53, 53, 24, 53, 70, 71, 48, 5, 8, 26, 33, 61, 13, 47, 23, 32, 77, 20, 28, 63, 9, 12, 47, 38, 34, 17, 56, 29, 37, 57, 29, 45, 52, 40, 79, 59, 0, 76, 67, 74, 42, 74, 31, 3, 15, 15, 41, 64, 35, 65, 58, 37, 30, 73, 7, 54, 51, 57, 72, 27, 50, 73, 39, 6, 9, 31, 1, 32, 46, 76, 16, 28, 61, 43, 68, 4, 50, 69, 62, 80, 57, 61, 19, 35, 22, 75, 76, 54, 21, 44]\n"
          ]
        }
      ]
    },
    {
      "cell_type": "code",
      "metadata": {
        "id": "Sk-hYFXfqwh1"
      },
      "source": [
        "from sklearn import cluster\n",
        "from sklearn import metrics\n",
        "s=[]\n",
        "for i in range(2,100):\n",
        "  #print(i)\n",
        "  NUM_CLUSTERS=int(i)\n",
        "  kmeans = cluster.KMeans(n_clusters=NUM_CLUSTERS)\n",
        "  kmeans.fit(XX)\n",
        "  \n",
        "  labels = kmeans.labels_\n",
        "  centroids = kmeans.cluster_centers_\n",
        "  # s[i][0]=int(i)\n",
        "  silhouette_score = metrics.silhouette_score(XX, labels, metric='euclidean')\n",
        "  s.append(silhouette_score)\n",
        "\n",
        "s\n",
        "\n",
        "  \n",
        "  # print (\"Cluster id labels for inputted data\")\n",
        "  # print (labels,len(labels))\n",
        "  # print (\"Centroids data\")\n",
        "  # print (centroids)\n",
        "  \n",
        "  # print (\"Score (Opposite of the value of X on the K-means objective which is Sum of distances of samples to their closest cluster center):\")\n",
        "  # print (kmeans.score(XX))\n",
        "  \n",
        "  # silhouette_score = metrics.silhouette_score(XX, labels, metric='euclidean')\n",
        "  \n",
        "  # print (\"Silhouette_score: \")\n",
        "  # print (silhouette_score)"
      ],
      "execution_count": null,
      "outputs": []
    },
    {
      "cell_type": "code",
      "metadata": {
        "colab": {
          "base_uri": "https://localhost:8080/",
          "height": 337
        },
        "id": "ozdbG3N2secd",
        "outputId": "ce7ca65b-5e57-43b4-e6af-a3a445b6da98"
      },
      "source": [
        "df_score= pd.DataFrame(s)\n",
        "df_score[25:35].plot(figsize=[18,5]) # 30 is the best no of cluster ans then #70"
      ],
      "execution_count": null,
      "outputs": [
        {
          "output_type": "execute_result",
          "data": {
            "text/plain": [
              "<matplotlib.axes._subplots.AxesSubplot at 0x7f9d8484abd0>"
            ]
          },
          "metadata": {},
          "execution_count": 87
        },
        {
          "output_type": "display_data",
          "data": {
            "image/png": "[encoded data removed]",
            "text/plain": [
              "<Figure size 1296x360 with 1 Axes>"
            ]
          },
          "metadata": {
            "needs_background": "light"
          }
        }
      ]
    },
    {
      "cell_type": "code",
      "metadata": {
        "id": "HFUAp15mwRmg"
      },
      "source": [
        "NUM_CLUSTERS=30\n",
        "kmeans = cluster.KMeans(n_clusters=NUM_CLUSTERS)\n",
        "kmeans.fit(XX)\n",
        "\n",
        "labels = kmeans.labels_\n",
        "centroids = kmeans.cluster_centers_\n",
        "# s[i][0]=int(i)\n",
        "silhouette_score = metrics.silhouette_score(XX, labels, metric='euclidean')\n",
        "s.append(silhouette_score)\n",
        "assigned_clusters= labels"
      ],
      "execution_count": null,
      "outputs": []
    },
    {
      "cell_type": "code",
      "metadata": {
        "id": "7xXC3Qntjd53"
      },
      "source": [
        "list_0=[]\n",
        "clusters_formed=[]\n",
        "for j in range(30):\n",
        "  print('------'*70)\n",
        "  print('elements in cluster_{}'.format(j))\n",
        "  print('\\n')\n",
        "  clust=[] \n",
        "  for i, word in enumerate(uniqueWords):\n",
        "    \n",
        "    if assigned_clusters[i] == j:\n",
        "      clust.append(word)\n",
        "      print(word + \":\" + str(assigned_clusters[i]))\n",
        "  clusters_formed.append(clust)  "
      ],
      "execution_count": null,
      "outputs": []
    },
    {
      "cell_type": "code",
      "metadata": {
        "colab": {
          "base_uri": "https://localhost:8080/"
        },
        "id": "quUh7Hq_nx8P",
        "outputId": "29aa0a44-811b-476f-bc04-f5a6c480fc8a"
      },
      "source": [
        "for cluster in clusters_formed:\n",
        "    if len(cluster)>=2:\n",
        "        print(cluster)"
      ],
      "execution_count": null,
      "outputs": [
        {
          "output_type": "stream",
          "name": "stdout",
          "text": [
            "['quality', 'capable', 'achievement', 'level']\n",
            "['sense', 'sure', 'confident', 'wise', 'smart', 'decision', 'promise', 'proud', 'able', 'umm']\n",
            "['someone', 'idiot']\n",
            "['integrity', 'decisiveness', 'honesty', 'honest', 'morality', 'trustworthiness', 'humility']\n",
            "['politics', 'political', 'sociology', 'diplomacy']\n",
            "['president', 'leader', 'leadership']\n",
            "['logical', 'whole', 'crucial', 'time', 'goal', 'long', 'term', 'mature', 'care', 'hard', 'strong']\n",
            "['passion', 'teamwork', 'dedication', 'commitment', 'bravery']\n",
            "['empathy', 'selfless', 'kindness', 'compassion']\n",
            "['work', 'progressive', 'common', 'lot', 'course', 'run', 'come', 'management', 'people', 'deliberate', 'sophisticated', 'idea', 'others', 'genuine', 'office', 'different', 'group', 'ulterior', 'relation', 'join', 'basic']\n",
            "['inclusivity', 'unity', 'equality']\n",
            "['peaceful', 'calm']\n",
            "['understanding', 'background', 'experience', 'skill', 'knowledge']\n",
            "['good', 'nice']\n",
            "['agreeable', 'compromise', 'approachable']\n",
            "['qualified', 'system', 'country', 'county', 'born', 'international', 'vast']\n",
            "['eloquent', 'humble']\n",
            "['problem', 'situation']\n",
            "['character', 'motif']\n",
            "['determination', 'willingness', 'ability']\n"
          ]
        }
      ]
    },
    {
      "cell_type": "markdown",
      "metadata": {
        "id": "ss3F6fBXrb6V"
      },
      "source": [
        "# word2vec + wordnet + k means clustering"
      ]
    },
    {
      "cell_type": "code",
      "metadata": {
        "id": "0L5ForqrGLE6"
      },
      "source": [
        "import nltk\n",
        "from nltk.corpus import wordnet\n",
        "# synonyms = []\n",
        "# antonyms = []\n",
        "  \n",
        "# for syn in wordnet.synsets(\"good\"):\n",
        "#     for l in syn.lemmas():\n",
        "#         synonyms.append(l.name())"
      ],
      "execution_count": null,
      "outputs": []
    },
    {
      "cell_type": "code",
      "metadata": {
        "colab": {
          "base_uri": "https://localhost:8080/"
        },
        "id": "7jTprxhwd69H",
        "outputId": "e28e3135-4e33-4ba2-e5f9-a36af0f35747"
      },
      "source": [
        "uniqueWords = [] \n",
        "for i in noun__adj:\n",
        "      if not i in uniqueWords:\n",
        "          uniqueWords.append(i);\n",
        "len(uniqueWords)\n",
        "import nltk\n",
        "from nltk.corpus import wordnet\n",
        "top_5_added_word=[]\n",
        "for word in uniqueWords:\n",
        "  top_5_added_word.append(word)\n",
        "  synonyms = []\n",
        "  for syn in wordnet.synsets(word):\n",
        "    for l in syn.lemmas():\n",
        "        synonyms.append(l.name())\n",
        "  #print(synonyms)\n",
        "\n",
        "  if len(synonyms)>5 :\n",
        "    for i in range(5):\n",
        "      top_5_added_word.append(synonyms[i].lower())\n",
        "  else:\n",
        "    for i in range(len(synonyms)):\n",
        "      top_5_added_word.append(synonyms[i].lower())\n",
        "  #exit()\n",
        "\n",
        "print(len(top_5_added_word))\n"
      ],
      "execution_count": null,
      "outputs": [
        {
          "output_type": "stream",
          "name": "stdout",
          "text": [
            "601\n"
          ]
        }
      ]
    },
    {
      "cell_type": "code",
      "metadata": {
        "colab": {
          "base_uri": "https://localhost:8080/"
        },
        "id": "5ghsIGd_fDaj",
        "outputId": "bc02d158-6cd6-44ad-dcd4-83d73058b30a"
      },
      "source": [
        "top_5_added_unique_word=[]\n",
        "\n",
        "for i in top_5_added_word:\n",
        "      if not i in top_5_added_unique_word:\n",
        "          top_5_added_unique_word.append(i);\n",
        "len(top_5_added_unique_word)"
      ],
      "execution_count": null,
      "outputs": [
        {
          "output_type": "execute_result",
          "data": {
            "text/plain": [
              "355"
            ]
          },
          "metadata": {},
          "execution_count": 30
        }
      ]
    },
    {
      "cell_type": "code",
      "metadata": {
        "colab": {
          "base_uri": "https://localhost:8080/"
        },
        "id": "PZccxrxgP2Ef",
        "outputId": "46961eab-20ad-4523-c4d4-2f9a09c89a4f"
      },
      "source": [
        "vocab = list(model.wv.vocab)\n",
        "#print(vocab)\n",
        "def intersection(lst1, lst2):\n",
        "    lst3 = [value for value in lst1 if value in lst2]\n",
        "    return lst3\n",
        "\n",
        "top_5_added_unique_word=intersection(top_5_added_unique_word,vocab)"
      ],
      "execution_count": null,
      "outputs": [
        {
          "output_type": "stream",
          "name": "stderr",
          "text": [
            "/usr/local/lib/python3.7/dist-packages/ipykernel_launcher.py:1: DeprecationWarning: Call to deprecated `wv` (Attribute will be removed in 4.0.0, use self instead).\n",
            "  \"\"\"Entry point for launching an IPython kernel.\n"
          ]
        }
      ]
    },
    {
      "cell_type": "code",
      "metadata": {
        "colab": {
          "base_uri": "https://localhost:8080/"
        },
        "id": "a_s-1CvZNXpp",
        "outputId": "043079fa-b7a0-4d80-abb9-d58b35cdc5cf"
      },
      "source": [
        "len(top_5_added_unique_word)"
      ],
      "execution_count": null,
      "outputs": [
        {
          "output_type": "execute_result",
          "data": {
            "text/plain": [
              "296"
            ]
          },
          "metadata": {},
          "execution_count": 32
        }
      ]
    },
    {
      "cell_type": "code",
      "metadata": {
        "id": "ud7qH0upCxmT"
      },
      "source": [
        "from sklearn import cluster\n",
        "from sklearn import metrics"
      ],
      "execution_count": null,
      "outputs": []
    },
    {
      "cell_type": "code",
      "metadata": {
        "id": "JZ-juui9Ngst",
        "colab": {
          "base_uri": "https://localhost:8080/",
          "height": 337
        },
        "outputId": "a6270095-d4a6-46ed-dbf9-bad95f5e9081"
      },
      "source": [
        "from sklearn import cluster\n",
        "from sklearn import metrics\n",
        "s=[]\n",
        "XXX= model[top_5_added_unique_word]\n",
        "for i in range(2,100):\n",
        "  #print(i)\n",
        "  NUM_CLUSTERS=int(i)\n",
        "  kmeans = cluster.KMeans(n_clusters=NUM_CLUSTERS)\n",
        "  kmeans.fit(XXX)\n",
        "  \n",
        "  labels = kmeans.labels_\n",
        "  centroids = kmeans.cluster_centers_\n",
        "  # s[i][0]=int(i)\n",
        "  silhouette_score = metrics.silhouette_score(XXX, labels, metric='euclidean')\n",
        "  s.append(silhouette_score)\n",
        "\n",
        "df_score= pd.DataFrame(s)\n",
        "df_score[25:35].plot(figsize=[18,5])\n",
        "\n",
        "  \n",
        "  # print (\"Cluster id labels for inputted data\")\n",
        "  # print (labels,len(labels))\n",
        "  # print (\"Centroids data\")\n",
        "  # print (centroids)\n",
        "  \n",
        "  # print (\"Score (Opposite of the value of X on the K-means objective which is Sum of distances of samples to their closest cluster center):\")\n",
        "  # print (kmeans.score(XX))\n",
        "  \n",
        "  # silhouette_score = metrics.silhouette_score(XX, labels, metric='euclidean')\n",
        "  \n",
        "  # print (\"Silhouette_score: \")\n",
        "  # print (silhouette_score)"
      ],
      "execution_count": null,
      "outputs": [
        {
          "output_type": "execute_result",
          "data": {
            "text/plain": [
              "<matplotlib.axes._subplots.AxesSubplot at 0x7f0e370dbd50>"
            ]
          },
          "metadata": {},
          "execution_count": 33
        },
        {
          "output_type": "display_data",
          "data": {
            "image/png": "[encoded data removed]",
            "text/plain": [
              "<Figure size 1296x360 with 1 Axes>"
            ]
          },
          "metadata": {
            "needs_background": "light"
          }
        }
      ]
    },
    {
      "cell_type": "code",
      "metadata": {
        "colab": {
          "base_uri": "https://localhost:8080/",
          "height": 337
        },
        "id": "6FmH1Yj3OYwR",
        "outputId": "7b592369-4aa1-45d8-ab36-d719831a1c39"
      },
      "source": [
        "df_score.plot(figsize=[18,5])"
      ],
      "execution_count": null,
      "outputs": [
        {
          "output_type": "execute_result",
          "data": {
            "text/plain": [
              "<matplotlib.axes._subplots.AxesSubplot at 0x7f3e7e9591d0>"
            ]
          },
          "metadata": {},
          "execution_count": 42
        },
        {
          "output_type": "display_data",
          "data": {
            "image/png": "[encoded data removed]",
            "text/plain": [
              "<Figure size 1296x360 with 1 Axes>"
            ]
          },
          "metadata": {
            "needs_background": "light"
          }
        }
      ]
    },
    {
      "cell_type": "code",
      "metadata": {
        "id": "x0byJ6GvPFXk"
      },
      "source": [
        "from sklearn import cluster\n",
        "from sklearn import metrics"
      ],
      "execution_count": null,
      "outputs": []
    },
    {
      "cell_type": "code",
      "metadata": {
        "colab": {
          "base_uri": "https://localhost:8080/"
        },
        "id": "BvKRHTfnPFrm",
        "outputId": "f20d58c6-f815-447f-b70e-8d69b8ac588e"
      },
      "source": [
        "NUM_CLUSTERS=57\n",
        "kmeans = cluster.KMeans(n_clusters=NUM_CLUSTERS)\n",
        "kmeans.fit(XXX)\n",
        "\n",
        "labels = kmeans.labels_\n",
        "centroids = kmeans.cluster_centers_\n",
        "# s[i][0]=int(i)\n",
        "silhouette_score = metrics.silhouette_score(XXX, labels, metric='euclidean')\n",
        "#s.append(silhouette_score)\n",
        "assigned_clusters= labels\n",
        "\n",
        "list_0=[]\n",
        "clusters_formed=[]\n",
        "for j in range(57):\n",
        "  # print('------'*70)\n",
        "  # print('elements in cluster_{}'.format(j))\n",
        "  # print('\\n')\n",
        "  clust=[] \n",
        "  for i, word in enumerate(top_5_added_unique_word):\n",
        "    \n",
        "    if assigned_clusters[i] == j:\n",
        "      clust.append(word)\n",
        "      #print(word + \":\" + str(assigned_clusters[i]))\n",
        "  clusters_formed.append(clust)  \n",
        "\n",
        "\n",
        "\n",
        "for cluster in clusters_formed:\n",
        "    if len(cluster)>=2:\n",
        "        print(cluster)  "
      ],
      "execution_count": null,
      "outputs": [
        {
          "output_type": "stream",
          "name": "stdout",
          "text": [
            "['good', 'lofty', 'nice', 'decent']\n",
            "['character', 'changeling']\n",
            "['courageousness', 'fearlessness']\n",
            "['imperfect', 'individual', 'passive', 'altruistic']\n",
            "['finding', 'work', 'employment', 'scheme', 'appeal', 'come', 'deliver', 'grow', 'cultivated', 'see', 'job', 'care', 'acquirement', 'acquisition', 'trusty', 'underprivileged', 'accessible']\n",
            "['humiliate', 'mortify', 'pity']\n",
            "['positive', 'coherent', 'consistent', 'capable', 'conformable', 'mature', 'dependable', 'strong', 'potent']\n",
            "['run', 'tally', 'open', 'goal', 'par']\n",
            "['vast', 'huge', 'immense']\n",
            "['achievement', 'accomplishment', 'attainment']\n",
            "['idiot', 'imbecile', 'cretin', 'moron']\n",
            "['someone', 'person', 'somebody', 'people', 'pervert']\n",
            "['finality', 'warmth', 'apprehension', 'sense', 'ache', 'entreaty', 'prayer', 'theme']\n",
            "['sexual_intercourse', 'intercourse']\n",
            "['fluent', 'cum', 'majestic', 'born', 'consonant', 'sophisticate', 'cultured', 'preconception', 'benignity', 'echt', 'subterranean', 'motif', 'delicacy']\n",
            "['progressive', 'flock', 'unit', 'leader', 'leading', 'leaders', 'management', 'agency', 'group', 'grouping', 'radical', 'international', 'establishment', 'join', 'joint']\n",
            "['calm', 'calmness']\n",
            "['determination', 'dedication', 'commitment', 'leadership', 'promise', 'willingness', 'ability']\n",
            "['integrity', 'honesty', 'trustworthiness']\n",
            "['president', 'chief_executive']\n",
            "['signified', 'conclusion', 'end', 'finish']\n",
            "['sure', 'confident', 'convinced', 'smarting', 'hope', 'assure', 'proud']\n",
            "['savvy', 'smart', 'sophisticated']\n",
            "['eloquent', 'humble', 'polite', 'approachable']\n",
            "['decision', 'heat', 'purpose', 'system', 'park', 'green', 'lot', 'batch', 'quality', 'caliber', 'land', 'silver', 'wise', 'chagrin', 'whole', 'course', 'class', 'mortal', 'test', 'trial', 'crucial', 'time', 'clip', 'direction', 'destination', 'long', 'term', 'condition', 'consider', 'debate', 'ground', 'bear', 'able', 'level', 'degree', 'grade', 'twist', 'idea', 'thought', 'mind', 'one', '1', 'others', 'umm', 'equation', 'problem', 'trouble', 'power', 'attention', 'tending', 'caution', 'hard', 'difficult', 'unlike', 'later', 'trying', 'situation', 'position', 'outside', 'juncture', 'junction', 'staple', 'discreetness']\n",
            "['honorable', 'civilized']\n",
            "['politics', 'political', 'sociology', 'diplomacy']\n",
            "['goodness', 'facile', 'legitimate', 'honest', 'genuine', 'true', 'unfeigned', 'trustworthy']\n",
            "['peaceful', 'peaceable']\n",
            "['agreement', 'deal', 'negotiator', 'compromise']\n",
            "['inclusivity', 'equality']\n",
            "['ejaculate', 'copulation']\n",
            "['decisiveness', 'passion', 'teamwork', 'smartness', 'empathy', 'composure', 'equanimity', 'gallant', 'selfless', 'kindness', 'compassion', 'bravery', 'courage', 'braveness', 'humility', 'humbleness']\n",
            "['qualified', 'qualify']\n",
            "['understanding', 'background', 'experience', 'skill', 'knowledge']\n",
            "['allegiance', 'loyalty']\n",
            "['conclusiveness', 'restrict', 'common', 'certain', 'logical', 'subject', 'important', 'multitude', 'deliberate', 'moot', 'agreeable', 'accordant', 'convolute', 'equivalence', 'different', 'dissimilar', 'ulterior', 'relation', 'articulation', 'basic']\n",
            "['discernment', 'morality', 'ethics', 'morals']\n",
            "['country', 'state', 'nation', 'commonwealth', 'county']\n",
            "['hanker', 'yearn']\n",
            "['prejudice', 'bias']\n",
            "['intelligence', 'citizenry', 'government', 'aid', 'constitution']\n"
          ]
        }
      ]
    },
    {
      "cell_type": "code",
      "metadata": {
        "colab": {
          "base_uri": "https://localhost:8080/"
        },
        "id": "U2OIBHt3hCO_",
        "outputId": "eb272845-d4bf-4707-8177-9249516d3417"
      },
      "source": [
        "from nltk.cluster import KMeansClusterer\n",
        "import nltk\n",
        "NUM_CLUSTERS=20\n",
        "XXX= model[top_5_added_unique_word]\n",
        "kclusterer = KMeansClusterer(NUM_CLUSTERS, distance=nltk.cluster.util.cosine_distance, repeats=25)\n",
        "assigned_clusters = kclusterer.cluster(XXX, assign_clusters=True)\n",
        "print(assigned_clusters)\n",
        "\n",
        "list_0=[]\n",
        "for j in range(20):\n",
        "  print('------'*70)\n",
        "  print('elements in cluster_{}'.format(j))\n",
        "  print('\\n')\n",
        "  \n",
        "  for i, word in enumerate(uniqueWords):\n",
        "    if assigned_clusters[i] == j:\n",
        "      \n",
        "      print(word + \":\" + str(assigned_clusters[i]))\n",
        "# output: [0, 2, 1, 2, 2, 1, 2, 2, 0, 1, 0, 1, 2, 1, 2]"
      ],
      "execution_count": null,
      "outputs": [
        {
          "output_type": "stream",
          "name": "stdout",
          "text": [
            "[1, 5, 17, 11, 5, 9, 10, 15, 5, 5, 7, 11, 5, 9, 12, 5, 2, 2, 2, 3, 5, 8, 8, 0, 10, 17, 3, 8, 1, 4, 15, 12, 12, 4, 17, 4, 11, 15, 11, 13, 12, 9, 7, 8, 14, 3, 0, 14, 13, 14, 8, 14, 8, 8, 13, 13, 13, 15, 15, 19, 4, 12, 12, 15, 3, 3, 3, 17, 17, 10, 3, 13, 5, 11, 19, 6, 1, 10, 11, 9, 14, 8, 5, 5, 17, 7, 7, 14, 9, 9, 12, 9, 10, 2, 2, 2, 18, 3, 9, 16, 13, 13, 9, 9, 18, 2, 18, 2, 18, 18, 15, 0, 14, 14, 5, 0, 9, 9, 9, 2, 0, 0, 0, 3, 11, 11, 8, 11, 5, 17, 5, 9, 17, 1, 17, 9, 13, 13, 17, 19, 17, 17, 17, 12, 10, 6, 10, 10, 10, 10, 12, 2, 15, 12, 13, 10, 12, 10, 0, 4, 17, 8, 19, 9, 3, 19, 16, 6, 15, 13, 1, 5, 12, 7, 7, 7, 1, 19, 11, 17, 15, 3, 13, 12, 17, 3, 9, 9, 9, 19, 17, 1, 19, 3, 3, 9, 2, 12, 17, 17, 17, 5, 0, 2, 5, 10, 17, 17, 16, 9, 4, 17, 17, 17, 5, 11, 8, 3, 5, 3, 12, 19, 12, 10, 2, 9, 2, 3, 10, 5, 10, 5, 5, 5, 5, 5, 0, 1, 8, 8, 13, 13, 3, 3, 17, 8, 14, 12, 3, 16, 14, 14, 14, 12, 1, 13, 1, 16, 9, 0, 13, 16, 0, 12, 1, 4, 16, 18, 18, 18, 17, 14, 8, 14, 15, 16, 16, 1, 13, 3, 3, 3, 19, 1, 3, 7, 10, 10, 1, 5, 5, 1, 13, 10, 0, 15]\n",
            "------------------------------------------------------------------------------------------------------------------------------------------------------------------------------------------------------------------------------------------------------------------------------------------------------------------------------------------------------------------------------------------------------------------------------------\n",
            "elements in cluster_0\n",
            "\n",
            "\n",
            "wise:0\n",
            "long:0\n",
            "knowledge:0\n",
            "------------------------------------------------------------------------------------------------------------------------------------------------------------------------------------------------------------------------------------------------------------------------------------------------------------------------------------------------------------------------------------------------------------------------------------\n",
            "elements in cluster_1\n",
            "\n",
            "\n",
            "intelligence:1\n",
            "whole:1\n",
            "experience:1\n",
            "------------------------------------------------------------------------------------------------------------------------------------------------------------------------------------------------------------------------------------------------------------------------------------------------------------------------------------------------------------------------------------------------------------------------------------\n",
            "elements in cluster_2\n",
            "\n",
            "\n",
            "lot:2\n",
            "quality:2\n",
            "president:2\n",
            "different:2\n",
            "group:2\n",
            "ulterior:2\n",
            "approachable:2\n",
            "sociology:2\n",
            "------------------------------------------------------------------------------------------------------------------------------------------------------------------------------------------------------------------------------------------------------------------------------------------------------------------------------------------------------------------------------------------------------------------------------------\n",
            "elements in cluster_3\n",
            "\n",
            "\n",
            "country:3\n",
            "negotiator:3\n",
            "achievement:3\n",
            "selfless:3\n",
            "level:3\n",
            "sophisticated:3\n",
            "polite:3\n",
            "stressful:3\n",
            "------------------------------------------------------------------------------------------------------------------------------------------------------------------------------------------------------------------------------------------------------------------------------------------------------------------------------------------------------------------------------------------------------------------------------------\n",
            "elements in cluster_4\n",
            "\n",
            "\n",
            "county:4\n",
            "leader:4\n",
            "run:4\n",
            "born:4\n",
            "------------------------------------------------------------------------------------------------------------------------------------------------------------------------------------------------------------------------------------------------------------------------------------------------------------------------------------------------------------------------------------------------------------------------------------\n",
            "elements in cluster_5\n",
            "\n",
            "\n",
            "integrity:5\n",
            "passion:5\n",
            "good:5\n",
            "work:5\n",
            "progressive:5\n",
            "sure:5\n",
            "confident:5\n",
            "unity:5\n",
            "problem:5\n",
            "ability:5\n",
            "------------------------------------------------------------------------------------------------------------------------------------------------------------------------------------------------------------------------------------------------------------------------------------------------------------------------------------------------------------------------------------------------------------------------------------\n",
            "elements in cluster_6\n",
            "\n",
            "\n",
            "willingness:6\n",
            "------------------------------------------------------------------------------------------------------------------------------------------------------------------------------------------------------------------------------------------------------------------------------------------------------------------------------------------------------------------------------------------------------------------------------------\n",
            "elements in cluster_7\n",
            "\n",
            "\n",
            "understanding:7\n",
            "empathy:7\n",
            "care:7\n",
            "compassion:7\n",
            "------------------------------------------------------------------------------------------------------------------------------------------------------------------------------------------------------------------------------------------------------------------------------------------------------------------------------------------------------------------------------------------------------------------------------------\n",
            "elements in cluster_8\n",
            "\n",
            "\n",
            "eloquent:8\n",
            "logical:8\n",
            "appeal:8\n",
            "management:8\n",
            "people:8\n",
            "promise:8\n",
            "idiot:8\n",
            "trustworthiness:8\n",
            "------------------------------------------------------------------------------------------------------------------------------------------------------------------------------------------------------------------------------------------------------------------------------------------------------------------------------------------------------------------------------------------------------------------------------------\n",
            "elements in cluster_9\n",
            "\n",
            "\n",
            "determination:9\n",
            "common:9\n",
            "leadership:9\n",
            "equality:9\n",
            "skill:9\n",
            "hard:9\n",
            "political:9\n",
            "situation:9\n",
            "underprivileged:9\n",
            "join:9\n",
            "------------------------------------------------------------------------------------------------------------------------------------------------------------------------------------------------------------------------------------------------------------------------------------------------------------------------------------------------------------------------------------------------------------------------------------\n",
            "elements in cluster_10\n",
            "\n",
            "\n",
            "teamwork:10\n",
            "humble:10\n",
            "idea:10\n",
            "kindness:10\n",
            "office:10\n",
            "------------------------------------------------------------------------------------------------------------------------------------------------------------------------------------------------------------------------------------------------------------------------------------------------------------------------------------------------------------------------------------------------------------------------------------\n",
            "elements in cluster_11\n",
            "\n",
            "\n",
            "honesty:11\n",
            "system:11\n",
            "capable:11\n",
            "decision:11\n",
            "others:11\n",
            "umm:11\n",
            "------------------------------------------------------------------------------------------------------------------------------------------------------------------------------------------------------------------------------------------------------------------------------------------------------------------------------------------------------------------------------------------------------------------------------------\n",
            "elements in cluster_12\n",
            "\n",
            "\n",
            "sense:12\n",
            "character:12\n",
            "course:12\n",
            "come:12\n",
            "agreeable:12\n",
            "able:12\n",
            "trustworthy:12\n",
            "------------------------------------------------------------------------------------------------------------------------------------------------------------------------------------------------------------------------------------------------------------------------------------------------------------------------------------------------------------------------------------------------------------------------------------\n",
            "elements in cluster_13\n",
            "\n",
            "\n",
            "time:13\n",
            "levelheadedness:13\n",
            "peaceful:13\n",
            "calm:13\n",
            "deliberate:13\n",
            "nice:13\n",
            "relation:13\n",
            "constitution:13\n",
            "------------------------------------------------------------------------------------------------------------------------------------------------------------------------------------------------------------------------------------------------------------------------------------------------------------------------------------------------------------------------------------------------------------------------------------\n",
            "elements in cluster_14\n",
            "\n",
            "\n",
            "goal:14\n",
            "term:14\n",
            "commitment:14\n",
            "inclusivity:14\n",
            "morality:14\n",
            "bravery:14\n",
            "------------------------------------------------------------------------------------------------------------------------------------------------------------------------------------------------------------------------------------------------------------------------------------------------------------------------------------------------------------------------------------------------------------------------------------\n",
            "elements in cluster_15\n",
            "\n",
            "\n",
            "qualified:15\n",
            "dedication:15\n",
            "crucial:15\n",
            "proud:15\n",
            "background:15\n",
            "compromise:15\n",
            "vast:15\n",
            "------------------------------------------------------------------------------------------------------------------------------------------------------------------------------------------------------------------------------------------------------------------------------------------------------------------------------------------------------------------------------------------------------------------------------------\n",
            "elements in cluster_16\n",
            "\n",
            "\n",
            "international:16\n",
            "------------------------------------------------------------------------------------------------------------------------------------------------------------------------------------------------------------------------------------------------------------------------------------------------------------------------------------------------------------------------------------------------------------------------------------\n",
            "elements in cluster_17\n",
            "\n",
            "\n",
            "decisiveness:17\n",
            "smart:17\n",
            "someone:17\n",
            "mature:17\n",
            "honest:17\n",
            "genuine:17\n",
            "------------------------------------------------------------------------------------------------------------------------------------------------------------------------------------------------------------------------------------------------------------------------------------------------------------------------------------------------------------------------------------------------------------------------------------\n",
            "elements in cluster_18\n",
            "\n",
            "\n",
            "motif:18\n",
            "strong:18\n",
            "basic:18\n",
            "diplomacy:18\n",
            "humility:18\n",
            "------------------------------------------------------------------------------------------------------------------------------------------------------------------------------------------------------------------------------------------------------------------------------------------------------------------------------------------------------------------------------------------------------------------------------------\n",
            "elements in cluster_19\n",
            "\n",
            "\n",
            "politics:19\n",
            "prejudice:19\n"
          ]
        }
      ]
    }
  ]
}